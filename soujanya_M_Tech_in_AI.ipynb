{
  "nbformat": 4,
  "nbformat_minor": 0,
  "metadata": {
    "colab": {
      "provenance": [],
      "authorship_tag": "ABX9TyODt01FnUkomYOy80Z/9gaF",
      "include_colab_link": true
    },
    "kernelspec": {
      "name": "python3",
      "display_name": "Python 3"
    },
    "language_info": {
      "name": "python"
    }
  },
  "cells": [
    {
      "cell_type": "markdown",
      "metadata": {
        "id": "view-in-github",
        "colab_type": "text"
      },
      "source": [
        "<a href=\"https://colab.research.google.com/github/Soujanya1799/M.Tech_AI_week1/blob/main/soujanya_M_Tech_in_AI.ipynb\" target=\"_parent\"><img src=\"https://colab.research.google.com/assets/colab-badge.svg\" alt=\"Open In Colab\"/></a>"
      ]
    },
    {
      "cell_type": "markdown",
      "source": [
        "# **Week 1 Day 1**\n",
        "# Initializing variable"
      ],
      "metadata": {
        "id": "kgV_PHZgaS2i"
      }
    },
    {
      "cell_type": "code",
      "source": [
        "#99flag=4\n",
        "#print(99flag)# error because of the number starting\n",
        "#text=3#global=5\n",
        "#print(global) # error because of the keyword used\n",
        "#print(text)\n",
        "an$wer=7\n",
        "print(an$wer) # error because of the $"
      ],
      "metadata": {
        "id": "Cqex3sJuu0W7",
        "colab": {
          "base_uri": "https://localhost:8080/",
          "height": 130
        },
        "outputId": "d1dca4ca-eaab-4386-caa2-ab126b0d84ea"
      },
      "execution_count": null,
      "outputs": [
        {
          "output_type": "error",
          "ename": "SyntaxError",
          "evalue": "ignored",
          "traceback": [
            "\u001b[0;36m  File \u001b[0;32m\"<ipython-input-1-8e98475ba743>\"\u001b[0;36m, line \u001b[0;32m6\u001b[0m\n\u001b[0;31m    an$wer=7\u001b[0m\n\u001b[0m      ^\u001b[0m\n\u001b[0;31mSyntaxError\u001b[0m\u001b[0;31m:\u001b[0m invalid syntax\n"
          ]
        }
      ]
    },
    {
      "cell_type": "code",
      "source": [
        "from IPython.utils.text import num_ini_spaces\n",
        "a=2 #variable value is given\n",
        "b=2.2\n",
        "c=23+8j\n",
        "print(a) #printed the value of a\n",
        "print(b) #print the value of b\n",
        "print(a+ int(b)) # print the addition of a and b\n",
        "x=int(float(a)-b) #print and value given to the new variable x\n",
        "print(x) #print x\n",
        "print (c)\n",
        "print (type(a)) #type to find the datatype of a\n",
        "print(type(c))#type to find the datatype of c \n",
        "print(type(b))#type to find the datatype of b \n",
        "print(\"soujanya\")#printing the text vignesh\n",
        "soujanya=a+int(b)\n",
        "print(soujanya)#printing the text vignesh\n",
        "d=input() #taking input from the user\n",
        "e=int(input())\n",
        "print(d)\n",
        "print(e) \n",
        "print(int(d)+e)\n"
      ],
      "metadata": {
        "colab": {
          "base_uri": "https://localhost:8080/"
        },
        "id": "mJ_ZpZ4WbYB8",
        "outputId": "f74b7c45-92b8-4b2a-85cf-d7c4147e4776"
      },
      "execution_count": null,
      "outputs": [
        {
          "output_type": "stream",
          "name": "stdout",
          "text": [
            "2\n",
            "2.2\n",
            "4\n",
            "0\n",
            "(23+8j)\n",
            "<class 'int'>\n",
            "<class 'complex'>\n",
            "<class 'float'>\n",
            "soujanya\n",
            "4\n",
            "7\n",
            "8\n",
            "7\n",
            "8\n",
            "15\n"
          ]
        }
      ]
    },
    {
      "cell_type": "code",
      "source": [
        "t=float(input(\"value of t \"))#taking value for variable\n",
        "print(t)\n",
        "print(\"%.3f\"%t)#this command will make value after desimal only 3 numbers which also be as n "
      ],
      "metadata": {
        "colab": {
          "base_uri": "https://localhost:8080/"
        },
        "id": "nw0mRK5-u5wJ",
        "outputId": "71b0f344-9078-4abe-f15b-82a1805c7d8e"
      },
      "execution_count": null,
      "outputs": [
        {
          "output_type": "stream",
          "name": "stdout",
          "text": [
            "value of t 9\n",
            "9.0\n",
            "9.000\n"
          ]
        }
      ]
    },
    {
      "cell_type": "code",
      "source": [
        "x=int(input(\"value of x \"))#taking value for variable\n",
        "y=int(input(\"value of y \"))#taking value for variable\n",
        "z=int(input(\"value of z \"))#taking value for variable\n",
        "print((x+y+z)/3)"
      ],
      "metadata": {
        "colab": {
          "base_uri": "https://localhost:8080/"
        },
        "id": "EwNSuYR-vI8p",
        "outputId": "c96ff77b-9972-4d31-b169-fc832ece9159"
      },
      "execution_count": null,
      "outputs": [
        {
          "output_type": "stream",
          "name": "stdout",
          "text": [
            "value of x 8\n",
            "value of y 9\n",
            "value of z 7\n",
            "8.0\n"
          ]
        }
      ]
    },
    {
      "cell_type": "code",
      "source": [
        "a=int(input(\"value of a \"))#taking value for variable\n",
        "b=int(input(\"value of b \"))#taking value for variable\n",
        "print((a+b)/100)\n",
        "if a > b: #conduction for a>b first statment is printed else second is printed\n",
        " print((b/a)*100)\n",
        "else:\n",
        " print((a/b)*100)"
      ],
      "metadata": {
        "colab": {
          "base_uri": "https://localhost:8080/"
        },
        "id": "gBrM0FkDvbPB",
        "outputId": "b86314f8-df00-4311-d91c-b4791740217e"
      },
      "execution_count": null,
      "outputs": [
        {
          "output_type": "stream",
          "name": "stdout",
          "text": [
            "value of a 10\n",
            "value of b 20\n",
            "0.3\n",
            "50.0\n"
          ]
        }
      ]
    },
    {
      "cell_type": "code",
      "source": [
        "mystring= hello #giving values for variable\n",
        "myfloat= 2.5 #giving values for variable\n",
        "myint=10 #giving values for variable\n",
        "print(mystring)#printing the variable\n",
        "print(myfloat)#printing the variable\n",
        "print(myint)#printing the variable\n",
        "\n",
        "\n",
        "a=input(\"value of a\")#taking value for variable\n",
        "b=input(\"value of b\")#taking value for variable\n",
        "if a>b:#comparing value of a,b and check weather a is greater than b\n",
        " print(b%a)\n",
        "else:\n",
        " print(a%b) "
      ],
      "metadata": {
        "colab": {
          "base_uri": "https://localhost:8080/",
          "height": 235
        },
        "id": "g5FsaDW3vrbZ",
        "outputId": "e9ec7c6b-20b0-4577-ea51-2ac6d15202e2"
      },
      "execution_count": null,
      "outputs": [
        {
          "output_type": "error",
          "ename": "NameError",
          "evalue": "ignored",
          "traceback": [
            "\u001b[0;31m---------------------------------------------------------------------------\u001b[0m",
            "\u001b[0;31mNameError\u001b[0m                                 Traceback (most recent call last)",
            "\u001b[0;32m<ipython-input-6-efee590be4a3>\u001b[0m in \u001b[0;36m<module>\u001b[0;34m\u001b[0m\n\u001b[0;32m----> 1\u001b[0;31m \u001b[0mmystring\u001b[0m\u001b[0;34m=\u001b[0m \u001b[0mhello\u001b[0m \u001b[0;31m#giving values for variable\u001b[0m\u001b[0;34m\u001b[0m\u001b[0;34m\u001b[0m\u001b[0m\n\u001b[0m\u001b[1;32m      2\u001b[0m \u001b[0mmyfloat\u001b[0m\u001b[0;34m=\u001b[0m \u001b[0;36m2.5\u001b[0m \u001b[0;31m#giving values for variable\u001b[0m\u001b[0;34m\u001b[0m\u001b[0;34m\u001b[0m\u001b[0m\n\u001b[1;32m      3\u001b[0m \u001b[0mmyint\u001b[0m\u001b[0;34m=\u001b[0m\u001b[0;36m10\u001b[0m \u001b[0;31m#giving values for variable\u001b[0m\u001b[0;34m\u001b[0m\u001b[0;34m\u001b[0m\u001b[0m\n\u001b[1;32m      4\u001b[0m \u001b[0mprint\u001b[0m\u001b[0;34m(\u001b[0m\u001b[0mmystring\u001b[0m\u001b[0;34m)\u001b[0m\u001b[0;31m#printing the variable\u001b[0m\u001b[0;34m\u001b[0m\u001b[0;34m\u001b[0m\u001b[0m\n\u001b[1;32m      5\u001b[0m \u001b[0mprint\u001b[0m\u001b[0;34m(\u001b[0m\u001b[0mmyfloat\u001b[0m\u001b[0;34m)\u001b[0m\u001b[0;31m#printing the variable\u001b[0m\u001b[0;34m\u001b[0m\u001b[0;34m\u001b[0m\u001b[0m\n",
            "\u001b[0;31mNameError\u001b[0m: name 'hello' is not defined"
          ]
        }
      ]
    },
    {
      "cell_type": "code",
      "source": [
        "# Performing arithmatic oprations\n",
        "\n",
        "a=int(input()) # taking input from the user\n",
        "b=int(input()) # taking input from the user\n",
        "print(a+b) # performing operation and printing\n",
        "print(a-b) # performing operation and printing\n",
        "print(a*b) # performing operation and printing\n",
        "print(a/b) # performing operation and printing\n",
        "print(a%b) # performing operation and printing\n",
        "  "
      ],
      "metadata": {
        "colab": {
          "base_uri": "https://localhost:8080/"
        },
        "id": "RVSOm369v4g8",
        "outputId": "007212ea-79dc-48cb-8776-d390d9a8a02c"
      },
      "execution_count": null,
      "outputs": [
        {
          "output_type": "stream",
          "name": "stdout",
          "text": [
            "3\n",
            "5\n",
            "8\n",
            "-2\n",
            "15\n",
            "0.6\n",
            "3\n"
          ]
        }
      ]
    },
    {
      "cell_type": "code",
      "source": [
        "# Performing logical operations\n",
        "\n",
        "a=10 # initializing value\n",
        "b=4 # initializing value\n",
        "print(a&b)# performing operation and printing\n",
        "print(a|b)# performing operation and printing\n",
        "print(a^b)# performing operation and printing\n",
        "print(a<<2)# performing operation and printing\n",
        "print(a>>2)# performing operation and printing\n"
      ],
      "metadata": {
        "id": "ktzxnOgMwlHy",
        "colab": {
          "base_uri": "https://localhost:8080/"
        },
        "outputId": "3fab8d16-e0c0-4e97-929e-4e13526a7017"
      },
      "execution_count": null,
      "outputs": [
        {
          "output_type": "stream",
          "name": "stdout",
          "text": [
            "0\n",
            "14\n",
            "14\n",
            "40\n",
            "2\n"
          ]
        }
      ]
    },
    {
      "cell_type": "markdown",
      "source": [
        "# Break statement\n"
      ],
      "metadata": {
        "id": "FEXhkMbAcDx9"
      }
    },
    {
      "cell_type": "code",
      "source": [
        "n=10 # initialing the value \n",
        "for i in range(1,n+1): # for loop to the given value range\n",
        "  if(i==6): # if statement to satisfy the condition\n",
        "    break # break the loop if the condition is satisfied\n",
        "  print(i,end=\" \")  # print the output"
      ],
      "metadata": {
        "colab": {
          "base_uri": "https://localhost:8080/"
        },
        "id": "DZHWxzVpcMrM",
        "outputId": "a1465eaf-8ec8-4735-dcd1-93c50e15f84a"
      },
      "execution_count": null,
      "outputs": [
        {
          "output_type": "stream",
          "name": "stdout",
          "text": [
            "1 2 3 4 5 "
          ]
        }
      ]
    },
    {
      "cell_type": "code",
      "source": [
        "n=10 # initialing the value \n",
        "for i in range(1,n+1): # for loop to the given value range\n",
        "  if(i==6): # if statement to satisfy the condition\n",
        "    break # break the loop if the condition is satisfied\n",
        "  print(i,end=\" \")  # print the output"
      ],
      "metadata": {
        "colab": {
          "base_uri": "https://localhost:8080/"
        },
        "id": "uR5G8l0uce8Y",
        "outputId": "735639cf-9e5f-4dc8-8585-ffbd37d27d20"
      },
      "execution_count": null,
      "outputs": [
        {
          "output_type": "stream",
          "name": "stdout",
          "text": [
            "enter the value of n= 4\n",
            "5\n",
            "10\n",
            "15\n",
            "20\n"
          ]
        }
      ]
    },
    {
      "cell_type": "markdown",
      "source": [
        "# Continue statement"
      ],
      "metadata": {
        "id": "REtN_Ym93bYs"
      }
    },
    {
      "cell_type": "code",
      "source": [
        "# Performimg continue statement\n",
        "\n",
        "n=0 # initialing the value\n",
        "for i in range(5):\n",
        "    if i == 3:\n",
        "        continue\n",
        "    print(i)"
      ],
      "metadata": {
        "colab": {
          "base_uri": "https://localhost:8080/"
        },
        "id": "FO70J6RS3o7n",
        "outputId": "36e2447f-8d51-4ed0-e6ca-3a7ff2b5acc3"
      },
      "execution_count": null,
      "outputs": [
        {
          "output_type": "stream",
          "name": "stdout",
          "text": [
            "0\n",
            "1\n",
            "2\n",
            "4\n"
          ]
        }
      ]
    },
    {
      "cell_type": "code",
      "source": [
        "# To print multiples of 5\n",
        "\n",
        "n=int(input(\"enter the value of n= \")) # taking the value from the user\n",
        "for i in range(1,n+1): # for loop to the given value range\n",
        "  print(i*5) #print the multiples of 5"
      ],
      "metadata": {
        "colab": {
          "base_uri": "https://localhost:8080/"
        },
        "id": "TbKfjYyLctV8",
        "outputId": "2e1e1b41-4f49-437b-afd4-460dbaea9243"
      },
      "execution_count": null,
      "outputs": [
        {
          "output_type": "stream",
          "name": "stdout",
          "text": [
            "enter the value of n= 20\n",
            "5\n",
            "10\n",
            "15\n",
            "20\n",
            "25\n",
            "30\n",
            "35\n",
            "40\n",
            "45\n",
            "50\n",
            "55\n",
            "60\n",
            "65\n",
            "70\n",
            "75\n",
            "80\n",
            "85\n",
            "90\n",
            "95\n",
            "100\n"
          ]
        }
      ]
    },
    {
      "cell_type": "code",
      "source": [
        "# To print even multiples of 5\n",
        "\n",
        "n=int(input(\"enter the value of n= \")) # taking the value from the user\n",
        "for i in range(1,n+1):  # for loop to the given value range\n",
        "  i*=5 # value of i should be eual to multilples of 5\n",
        "  if i%2==0: # if statement for i should be even\n",
        "    print(i) # print the output i"
      ],
      "metadata": {
        "colab": {
          "base_uri": "https://localhost:8080/"
        },
        "id": "V_DW_fftcxSJ",
        "outputId": "02b62531-0ec9-4302-9fa4-9d70ab9d939f"
      },
      "execution_count": null,
      "outputs": [
        {
          "output_type": "stream",
          "name": "stdout",
          "text": [
            "enter the value of n= 10\n",
            "10\n",
            "20\n",
            "30\n",
            "40\n",
            "50\n"
          ]
        }
      ]
    },
    {
      "cell_type": "code",
      "source": [
        "# to print even numbers\n",
        "\n",
        "n=int(input(\"enter the value of n= \")) # taking the value from the user\n",
        "for i in range(1,n+1): # for loop to the given value range\n",
        "  if i%2==0: # if statement for i should be even\n",
        "    print(i) # print the output i"
      ],
      "metadata": {
        "colab": {
          "base_uri": "https://localhost:8080/"
        },
        "id": "HuB7W8zidCGx",
        "outputId": "04e72cd6-c64a-4845-f994-9760c3010119"
      },
      "execution_count": null,
      "outputs": [
        {
          "output_type": "stream",
          "name": "stdout",
          "text": [
            "enter the value of n= 10\n",
            "2\n",
            "4\n",
            "6\n",
            "8\n",
            "10\n"
          ]
        }
      ]
    },
    {
      "cell_type": "code",
      "source": [
        "# To print odd numbers\n",
        "\n",
        "n=int(input(\"enter the value of n= \")) # taking the value from the user\n",
        "for i in range(1,n+1): # for loop to the given value range\n",
        "  if i%2!=0: # if statement for i should be odd\n",
        "    print(i) # print the output i"
      ],
      "metadata": {
        "colab": {
          "base_uri": "https://localhost:8080/"
        },
        "id": "6KBwuIgadGGM",
        "outputId": "7f8f8840-5f48-463a-deaa-021a03fc6e80"
      },
      "execution_count": null,
      "outputs": [
        {
          "output_type": "stream",
          "name": "stdout",
          "text": [
            "enter the value of n= 10\n",
            "1\n",
            "3\n",
            "5\n",
            "7\n",
            "9\n"
          ]
        }
      ]
    },
    {
      "cell_type": "code",
      "source": [
        "# To print odd multiples of 5\n",
        "\n",
        "n=int(input(\"enter the value of n= \")) # taking the value from the user\n",
        "for i in range(1,n+1): # for loop to the given value range\n",
        "  i*=5 # i is eual to multiples of 5\n",
        "  if i%2!=0: # if statement for i should be odd\n",
        "    print(i)  # print the output i"
      ],
      "metadata": {
        "colab": {
          "base_uri": "https://localhost:8080/"
        },
        "id": "cJY-MgQTdZH0",
        "outputId": "2376e14a-491e-4edb-af56-3394350de512"
      },
      "execution_count": null,
      "outputs": [
        {
          "output_type": "stream",
          "name": "stdout",
          "text": [
            "enter the value of n= 10\n",
            "5\n",
            "15\n",
            "25\n",
            "35\n",
            "45\n"
          ]
        }
      ]
    },
    {
      "cell_type": "code",
      "source": [
        "# To find the average of 3 numbres\n",
        "\n",
        "x=int(input(\"value of x \"))#taking value for variable\n",
        "y=int(input(\"value of y \"))#taking value for variable\n",
        "z=int(input(\"value of z \"))#taking value for variable\n",
        "print((x+y+z)//3)"
      ],
      "metadata": {
        "colab": {
          "base_uri": "https://localhost:8080/"
        },
        "id": "Z99qBmd8do7q",
        "outputId": "f90ffaa3-f526-4083-e8e1-6e06398c776f"
      },
      "execution_count": null,
      "outputs": [
        {
          "output_type": "stream",
          "name": "stdout",
          "text": [
            "value of x 7\n",
            "value of y 8\n",
            "value of z 9\n",
            "8\n"
          ]
        }
      ]
    },
    {
      "cell_type": "code",
      "source": [
        "# To perform addition and subtraction of given 2 numbers\n",
        "\n",
        "x=int(input(\"value of x \"))#taking value for variable\n",
        "y=int(input(\"value of y \"))#taking value for variable\n",
        "print(x+y,'\\n',x-y)"
      ],
      "metadata": {
        "colab": {
          "base_uri": "https://localhost:8080/"
        },
        "id": "MCwnxor_duBr",
        "outputId": "656d9c5b-033b-49d5-87e1-d56a1a81f3c6"
      },
      "execution_count": null,
      "outputs": [
        {
          "output_type": "stream",
          "name": "stdout",
          "text": [
            "value of x 5\n",
            "value of y 6\n",
            "11 \n",
            " -1\n"
          ]
        }
      ]
    },
    {
      "cell_type": "code",
      "source": [
        "# To swap given 2 numbers\n",
        "\n",
        "a=int(input(\"value of a \"))#taking value for variable\n",
        "b=int(input(\"value of b \"))#taking value for variable\n",
        "x=a\n",
        "y=b\n",
        "b=a\n",
        "a=y\n",
        "print(a)\n",
        "print(b)2\n"
      ],
      "metadata": {
        "colab": {
          "base_uri": "https://localhost:8080/"
        },
        "id": "awHKjxZpd3_1",
        "outputId": "3dcac3d3-5307-4c8c-c1ce-8537673c4fff"
      },
      "execution_count": null,
      "outputs": [
        {
          "output_type": "stream",
          "name": "stdout",
          "text": [
            "value of a 7\n",
            "value of b 4\n",
            "4\n",
            "7\n"
          ]
        }
      ]
    },
    {
      "cell_type": "markdown",
      "source": [
        "# **Day3** **String**"
      ],
      "metadata": {
        "id": "qU4JnxIIeR-M"
      }
    },
    {
      "cell_type": "code",
      "source": [
        "# To print an index value of given string \n",
        "\n",
        "a=\"RACE\" # giving value to variable\n",
        "print(a[1]) "
      ],
      "metadata": {
        "id": "_tuliK-geWZ-",
        "colab": {
          "base_uri": "https://localhost:8080/"
        },
        "outputId": "fbeb4c0c-23c5-4946-8f90-ea9c4491a297"
      },
      "execution_count": null,
      "outputs": [
        {
          "output_type": "stream",
          "name": "stdout",
          "text": [
            "A\n"
          ]
        }
      ]
    },
    {
      "cell_type": "code",
      "source": [
        "# To print even index values from th given string\n",
        "\n",
        "a=\"helloworld\"  # giving value to variable\n",
        "for i in range(len(a)): # for loop to the given string lenght \n",
        "  if i%2==0: # if statement for i should be even\n",
        "    print(a[i])"
      ],
      "metadata": {
        "colab": {
          "base_uri": "https://localhost:8080/"
        },
        "id": "LMvNEr6MfHju",
        "outputId": "c3e0eb49-0cf5-4204-eaa8-0110a8dc51ee"
      },
      "execution_count": null,
      "outputs": [
        {
          "output_type": "stream",
          "name": "stdout",
          "text": [
            "h\n",
            "l\n",
            "o\n",
            "o\n",
            "l\n"
          ]
        }
      ]
    },
    {
      "cell_type": "code",
      "source": [
        "# To print even and odd index of a given string\n",
        "\n",
        "a=input() # taking the value from the user\n",
        "odd=\"\" # defining a variable odd\n",
        "even=\"\" # defining a variable even\n",
        "for i in range(0,len(a)): # for loop to the given string lenght \n",
        "  if(i%2==0): # if statement for i should be even\n",
        "    even=even+a[i] # increment to the next even index\n",
        "  else: \n",
        "    odd=odd+a[i] # increment to the next odd index\n",
        "print(\"Even index char.:\",even)\n",
        "print(\"Odd index char.\",odd)"
      ],
      "metadata": {
        "colab": {
          "base_uri": "https://localhost:8080/"
        },
        "id": "wZkt_PbZfM1H",
        "outputId": "98130750-95cf-4c1e-9f53-be05fd5f0f73"
      },
      "execution_count": null,
      "outputs": [
        {
          "output_type": "stream",
          "name": "stdout",
          "text": [
            "RACE\n",
            "Even index char.: RC\n",
            "Odd index char. AE\n"
          ]
        }
      ]
    },
    {
      "cell_type": "code",
      "source": [
        "# To print an index value of given string\n",
        "\n",
        "a=\"Soujanya\" # giving value to the variable\n",
        "print(a[-1])"
      ],
      "metadata": {
        "colab": {
          "base_uri": "https://localhost:8080/"
        },
        "id": "PsKr8owWfXsc",
        "outputId": "6fcaf72c-c09b-486b-cbff-ec72f452e91e"
      },
      "execution_count": null,
      "outputs": [
        {
          "output_type": "stream",
          "name": "stdout",
          "text": [
            "a\n"
          ]
        }
      ]
    },
    {
      "cell_type": "markdown",
      "source": [
        "# Slicing in Strings"
      ],
      "metadata": {
        "id": "0OQJA0uZ0RIF"
      }
    },
    {
      "cell_type": "code",
      "source": [
        "# slicing last 2 index from the given string\n",
        "\n",
        "a=\"hello world\" # giving value to variable\n",
        "print(a[:2])"
      ],
      "metadata": {
        "colab": {
          "base_uri": "https://localhost:8080/"
        },
        "id": "FAj6V6MzfgXR",
        "outputId": "9936d5c2-4cf2-4eda-ebca-fbb67fccf121"
      },
      "execution_count": null,
      "outputs": [
        {
          "output_type": "stream",
          "name": "stdout",
          "text": [
            "he\n"
          ]
        }
      ]
    },
    {
      "cell_type": "code",
      "source": [
        "# To print the even and odd index from the given string\n",
        "\n",
        "a=input() # taking input from the user\n",
        "print(a[0:len(a):2]) \n",
        "print(a[1:len(a):2])"
      ],
      "metadata": {
        "colab": {
          "base_uri": "https://localhost:8080/"
        },
        "id": "iQY29HOsfvIc",
        "outputId": "1770eede-b791-4f94-cb46-91a48f1c9cf5"
      },
      "execution_count": null,
      "outputs": [
        {
          "output_type": "stream",
          "name": "stdout",
          "text": [
            "soujanya\n",
            "suay\n",
            "ojna\n"
          ]
        }
      ]
    },
    {
      "cell_type": "code",
      "source": [
        "# Slicing the first 2 index from the given string \n",
        "\n",
        "a=\"soujanya\"  # giving value to variable\n",
        "print(a[2:])"
      ],
      "metadata": {
        "colab": {
          "base_uri": "https://localhost:8080/"
        },
        "id": "is1Fqxoff3PX",
        "outputId": "a7dd2f48-5cdf-4bca-bcd0-df7555d85b08"
      },
      "execution_count": null,
      "outputs": [
        {
          "output_type": "stream",
          "name": "stdout",
          "text": [
            "ujanya\n"
          ]
        }
      ]
    },
    {
      "cell_type": "code",
      "source": [
        "# slicing last 2 index from the given string\n",
        "\n",
        "a=\"hello world\" # giving value to variable\n",
        "print(a[:-2])"
      ],
      "metadata": {
        "colab": {
          "base_uri": "https://localhost:8080/"
        },
        "id": "BznfmBkMf8oQ",
        "outputId": "e16e380b-6028-4c07-c66b-4bbef122079e"
      },
      "execution_count": null,
      "outputs": [
        {
          "output_type": "stream",
          "name": "stdout",
          "text": [
            "hello wor\n"
          ]
        }
      ]
    },
    {
      "cell_type": "code",
      "source": [
        "# To print only last 2 index from the given string\n",
        "\n",
        "a=\"hello world\" # giving value to variable\n",
        "print(a[-2:])"
      ],
      "metadata": {
        "colab": {
          "base_uri": "https://localhost:8080/"
        },
        "id": "jDHh8kv8gC3A",
        "outputId": "5ce9cc3a-1005-40b2-ac3a-29c81d6a2264"
      },
      "execution_count": null,
      "outputs": [
        {
          "output_type": "stream",
          "name": "stdout",
          "text": [
            "ld\n"
          ]
        }
      ]
    },
    {
      "cell_type": "code",
      "source": [
        "# to print sliced string \n",
        "\n",
        "a=\"hello world\" # giving value to variable\n",
        "print(a[1:-3])"
      ],
      "metadata": {
        "colab": {
          "base_uri": "https://localhost:8080/"
        },
        "id": "N3ONk2E2gSel",
        "outputId": "3750be63-a0f9-42e2-947a-5b75b0f5cd26"
      },
      "execution_count": null,
      "outputs": [
        {
          "output_type": "stream",
          "name": "stdout",
          "text": [
            "ello wo\n"
          ]
        }
      ]
    },
    {
      "cell_type": "code",
      "source": [
        "# To reverse given string using slicing method\n",
        "\n",
        "a=\"hello world\" # giving value to variable\n",
        "for i in range(len(a)-1,-1,-1):\n",
        "    print(a[i],end=\"\")"
      ],
      "metadata": {
        "colab": {
          "base_uri": "https://localhost:8080/"
        },
        "id": "Cqqf37tTgUpH",
        "outputId": "8984370c-4746-4650-970c-942bed4ae8be"
      },
      "execution_count": null,
      "outputs": [
        {
          "output_type": "stream",
          "name": "stdout",
          "text": [
            "dlrow olleh"
          ]
        }
      ]
    },
    {
      "cell_type": "code",
      "source": [
        "# To reverse given string using slicing method\n",
        "\n",
        "a=\"hello world\" # giving value to variable\n",
        "for i in range(len(a)-1,-1,-1):\n",
        "    print(a[i],end=\"\")"
      ],
      "metadata": {
        "colab": {
          "base_uri": "https://localhost:8080/"
        },
        "id": "4BYLZyidgdHO",
        "outputId": "9d3ce9cf-08c6-4e0f-edbe-78b31f181733"
      },
      "execution_count": null,
      "outputs": [
        {
          "output_type": "stream",
          "name": "stdout",
          "text": [
            "soujanya\n",
            "aynajuos\n"
          ]
        }
      ]
    },
    {
      "cell_type": "code",
      "source": [
        " # slicing the given string\n",
        "\n",
        "str=\"hello world\" # giving value to variable\n",
        "print(str[::-2])\n",
        "print(str[::2])\n",
        "print(str[2::])\n",
        "print(str[-2::])\n",
        "print(str[::-4])\n",
        "print(str[0:11:2])"
      ],
      "metadata": {
        "colab": {
          "base_uri": "https://localhost:8080/"
        },
        "id": "rddhILgcgmyy",
        "outputId": "4c9c0aee-81aa-4342-e889-f9d49d6da04a"
      },
      "execution_count": null,
      "outputs": [
        {
          "output_type": "stream",
          "name": "stdout",
          "text": [
            "drwolh\n",
            "hlowrd\n",
            "llo world\n",
            "ld\n",
            "dwl\n",
            "hlowrd\n"
          ]
        }
      ]
    },
    {
      "cell_type": "markdown",
      "source": [
        "# **week 2** \n",
        "# Day 1\n",
        "\n",
        "# List"
      ],
      "metadata": {
        "id": "webrqm-pYrBa"
      }
    },
    {
      "cell_type": "code",
      "source": [
        "# Creating a list\n",
        "\n",
        "num=[1,2,3,4]\n",
        "print(num)"
      ],
      "metadata": {
        "colab": {
          "base_uri": "https://localhost:8080/"
        },
        "id": "1tkn7D83cj-i",
        "outputId": "70cd9b0a-e313-4de4-e4e4-0c92bbf9ea0c"
      },
      "execution_count": null,
      "outputs": [
        {
          "output_type": "stream",
          "name": "stdout",
          "text": [
            "[1, 2, 3, 4]\n"
          ]
        }
      ]
    },
    {
      "cell_type": "code",
      "source": [
        "# Replacing data in list\n",
        "\n",
        "mix=[1,12.5,'a',\"python\"]\n",
        "mix[1]=8.5\n",
        "print(mix)\n"
      ],
      "metadata": {
        "colab": {
          "base_uri": "https://localhost:8080/"
        },
        "id": "Yljki5drduKO",
        "outputId": "ff314b20-1c8c-416d-cadf-ead386ddf6eb"
      },
      "execution_count": null,
      "outputs": [
        {
          "output_type": "stream",
          "name": "stdout",
          "text": [
            "[1, 8.5, 'a', 'python']\n"
          ]
        }
      ]
    },
    {
      "cell_type": "markdown",
      "source": [
        "# List within list - 2 lists"
      ],
      "metadata": {
        "id": "RnR8TuOrfoMv"
      }
    },
    {
      "cell_type": "code",
      "source": [
        "x=[[1,2],['a','b']]\n",
        "print(x)"
      ],
      "metadata": {
        "colab": {
          "base_uri": "https://localhost:8080/"
        },
        "id": "QXeMy-8Qfvyj",
        "outputId": "994e05a6-5e3d-4a5f-fb54-f40bbc9d4522"
      },
      "execution_count": null,
      "outputs": [
        {
          "output_type": "stream",
          "name": "stdout",
          "text": [
            "[[1, 2], ['a', 'b']]\n"
          ]
        }
      ]
    },
    {
      "cell_type": "code",
      "source": [
        "x=[[1,2],['a','d']]\n",
        "print(x[0])\n",
        "print(x[1])\n",
        "print(x[0][1])\n",
        "print(x[1][1])"
      ],
      "metadata": {
        "colab": {
          "base_uri": "https://localhost:8080/"
        },
        "id": "Et6MXET2gieE",
        "outputId": "490e6645-dda1-4a44-a8a2-3e1ddbf53c9d"
      },
      "execution_count": null,
      "outputs": [
        {
          "output_type": "stream",
          "name": "stdout",
          "text": [
            "[1, 2]\n",
            "['a', 'd']\n",
            "2\n",
            "d\n"
          ]
        }
      ]
    },
    {
      "cell_type": "code",
      "source": [
        "a=[0]*5\n",
        "print(a)\n",
        "print([a])"
      ],
      "metadata": {
        "colab": {
          "base_uri": "https://localhost:8080/"
        },
        "id": "gKfHu05_jiyI",
        "outputId": "7e305a56-bd61-4050-fc1c-07ae8b8b8596"
      },
      "execution_count": null,
      "outputs": [
        {
          "output_type": "stream",
          "name": "stdout",
          "text": [
            "[0, 0, 0, 0, 0]\n",
            "[[0, 0, 0, 0, 0]]\n"
          ]
        }
      ]
    },
    {
      "cell_type": "code",
      "source": [
        "letter=['a','b','c','d']\n",
        "stg=['python','list']\n",
        "conc=letter+stg\n",
        "print(conc)"
      ],
      "metadata": {
        "colab": {
          "base_uri": "https://localhost:8080/"
        },
        "id": "nh8K7bpHn-hP",
        "outputId": "3317d0bc-cb8d-4467-ae75-39f937b9ba44"
      },
      "execution_count": null,
      "outputs": [
        {
          "output_type": "stream",
          "name": "stdout",
          "text": [
            "['a', 'b', 'c', 'd', 'python', 'list']\n"
          ]
        }
      ]
    },
    {
      "cell_type": "markdown",
      "source": [
        "# **week 2- day 1**"
      ],
      "metadata": {
        "id": "1FzhCLr7viNr"
      }
    },
    {
      "cell_type": "code",
      "source": [
        "# exercis 1\n",
        "\n",
        "for i in range(13,100,13):\n",
        "  print(i, end=\" \")"
      ],
      "metadata": {
        "colab": {
          "base_uri": "https://localhost:8080/"
        },
        "id": "rbcJ2r9Pvpsj",
        "outputId": "44d070ca-9762-4440-e5c3-c3ba101edf7b"
      },
      "execution_count": null,
      "outputs": [
        {
          "output_type": "stream",
          "name": "stdout",
          "text": [
            "13 26 39 52 65 78 91 "
          ]
        }
      ]
    },
    {
      "cell_type": "code",
      "source": [
        "a=int(input(\"enter the number\"))\n",
        "for i in range(1,11,1):\n",
        "  b=a*i\n",
        "  print (a,'*',i,'=',b)"
      ],
      "metadata": {
        "colab": {
          "base_uri": "https://localhost:8080/"
        },
        "id": "5tOteTInx5Bq",
        "outputId": "cc5cb498-359a-411c-fe44-3e8d4903508b"
      },
      "execution_count": null,
      "outputs": [
        {
          "output_type": "stream",
          "name": "stdout",
          "text": [
            "enter the number5\n",
            "5 * 1 = 5\n",
            "5 * 2 = 10\n",
            "5 * 3 = 15\n",
            "5 * 4 = 20\n",
            "5 * 5 = 25\n",
            "5 * 6 = 30\n",
            "5 * 7 = 35\n",
            "5 * 8 = 40\n",
            "5 * 9 = 45\n",
            "5 * 10 = 50\n"
          ]
        }
      ]
    },
    {
      "cell_type": "code",
      "source": [
        "#printing two strings by using for and if statements\n",
        "\n",
        "fruit=\"banana\"\n",
        "for letter in fruit:\n",
        "  print(letter,end=\" \")\n",
        "  if letter==\"n\":\n",
        "    fruit=\"orange\"\n",
        "print(fruit,\"\\n\")    "
      ],
      "metadata": {
        "id": "a_MefFMx143U",
        "colab": {
          "base_uri": "https://localhost:8080/"
        },
        "outputId": "c09726a9-e2dd-4a6b-9bcc-cf14bc1b88b1"
      },
      "execution_count": null,
      "outputs": [
        {
          "output_type": "stream",
          "name": "stdout",
          "text": [
            "b a n a n a orange \n",
            "\n"
          ]
        }
      ]
    },
    {
      "cell_type": "code",
      "source": [
        "# Triple nested loop\n",
        "for i in range(3):\n",
        "  for j in range(3):\n",
        "     for k in range(3):\n",
        "       print(\"({},{},{})\".format(i,j,k))"
      ],
      "metadata": {
        "colab": {
          "base_uri": "https://localhost:8080/"
        },
        "id": "Le1vU00xsBkB",
        "outputId": "51d6fe6a-53fe-4deb-8ade-623ae3bc5f0c"
      },
      "execution_count": null,
      "outputs": [
        {
          "output_type": "stream",
          "name": "stdout",
          "text": [
            "(0,0,0)\n",
            "(0,0,1)\n",
            "(0,0,2)\n",
            "(0,1,0)\n",
            "(0,1,1)\n",
            "(0,1,2)\n",
            "(0,2,0)\n",
            "(0,2,1)\n",
            "(0,2,2)\n",
            "(1,0,0)\n",
            "(1,0,1)\n",
            "(1,0,2)\n",
            "(1,1,0)\n",
            "(1,1,1)\n",
            "(1,1,2)\n",
            "(1,2,0)\n",
            "(1,2,1)\n",
            "(1,2,2)\n",
            "(2,0,0)\n",
            "(2,0,1)\n",
            "(2,0,2)\n",
            "(2,1,0)\n",
            "(2,1,1)\n",
            "(2,1,2)\n",
            "(2,2,0)\n",
            "(2,2,1)\n",
            "(2,2,2)\n"
          ]
        }
      ]
    },
    {
      "cell_type": "markdown",
      "source": [
        "# List Methods"
      ],
      "metadata": {
        "id": "5K--Nk9QRttS"
      }
    },
    {
      "cell_type": "code",
      "source": [
        "fruits = ['apple', 'banana', 'cherry']\n",
        "\n",
        "# append()\n",
        "\n",
        "fruits.append(\"orange\")\n",
        "print(fruits)\n",
        "\n",
        "# copy()\n",
        "\n",
        "x = fruits.copy()\n",
        "print(x)\n",
        "\n",
        "# count()\n",
        "\n",
        "x1 = fruits.count(\"cherry\")\n",
        "print(x1)\n",
        "\n",
        "# insert()\n",
        "\n",
        "fruits.insert(1, \"watermelon\")\n",
        "print(fruits)\n",
        "\n",
        "# reverse()\n",
        "\n",
        "fruits.reverse()\n",
        "print(fruits)\n",
        "\n",
        "# remove()\n",
        "\n",
        "fruits.remove(\"banana\")\n",
        "print(fruits)\n",
        "\n",
        "# sort()\n",
        "\n",
        "fruits.sort()\n",
        "print(fruits)\n",
        "\n",
        "# pop()\n",
        "\n",
        "fruits.pop(3)\n",
        "print(fruits)\n",
        "\n",
        "# extend()\n",
        "\n",
        "vegetables=[\"tomato\",\"cucumber\"]\n",
        "fruits.extend(vegetables)\n",
        "print(fruits)\n",
        "\n",
        "# index()\n",
        "\n",
        "x = fruits.index(\"cherry\")\n",
        "print(x)\n",
        "\n",
        "# clear()\n",
        "\n",
        "fruits.clear()\n",
        "print(fruits)"
      ],
      "metadata": {
        "colab": {
          "base_uri": "https://localhost:8080/"
        },
        "id": "aGzWHRC6_BtY",
        "outputId": "63b4d0aa-8a63-4107-db95-c24304990d70"
      },
      "execution_count": null,
      "outputs": [
        {
          "output_type": "stream",
          "name": "stdout",
          "text": [
            "['apple', 'banana', 'cherry', 'orange']\n",
            "['apple', 'banana', 'cherry', 'orange']\n",
            "1\n",
            "['apple', 'watermelon', 'banana', 'cherry', 'orange']\n",
            "['orange', 'cherry', 'banana', 'watermelon', 'apple']\n",
            "['orange', 'cherry', 'watermelon', 'apple']\n",
            "['apple', 'cherry', 'orange', 'watermelon']\n",
            "['apple', 'cherry', 'orange']\n",
            "['apple', 'cherry', 'orange', 'tomato', 'cucumber']\n",
            "1\n",
            "[]\n"
          ]
        }
      ]
    },
    {
      "cell_type": "markdown",
      "source": [
        "# Day 2 - Function"
      ],
      "metadata": {
        "id": "46-KKkXBSsEx"
      }
    },
    {
      "cell_type": "code",
      "source": [
        "a=int(input(\"enter a value :  \"))\n",
        "b=int(input(\"enter b value :  \"))\n",
        "c=a+b\n",
        "print(c)"
      ],
      "metadata": {
        "colab": {
          "base_uri": "https://localhost:8080/"
        },
        "id": "8g3MpeV6X89e",
        "outputId": "c1aee4ac-756f-449b-baaa-ff9c4c5000a6"
      },
      "execution_count": null,
      "outputs": [
        {
          "output_type": "stream",
          "name": "stdout",
          "text": [
            "enter a value :  5\n",
            "enter b value :  10\n",
            "15\n"
          ]
        }
      ]
    },
    {
      "cell_type": "code",
      "source": [
        "def add(a,b):\n",
        "  c=a+b\n",
        "  return c\n",
        "a=int(input(\"enter a value :  \"))\n",
        "b=int(input(\"enter b value :  \"))\n",
        "print(add(a,b))"
      ],
      "metadata": {
        "colab": {
          "base_uri": "https://localhost:8080/"
        },
        "id": "j9xfnSHoYspj",
        "outputId": "32ec1f3f-0aaf-498c-a173-85c8855db384"
      },
      "execution_count": null,
      "outputs": [
        {
          "output_type": "stream",
          "name": "stdout",
          "text": [
            "enter a value :  500\n",
            "enter b value :  400\n",
            "900\n"
          ]
        }
      ]
    },
    {
      "cell_type": "code",
      "source": [
        "from re import A\n",
        "def swap():\n",
        "  a=int(input())\n",
        "  b=int(input())\n",
        "  a,b=b,a\n",
        "  print(\"After swapping\")\n",
        "  print(a,b)\n",
        "  \n",
        "swap()  "
      ],
      "metadata": {
        "colab": {
          "base_uri": "https://localhost:8080/"
        },
        "id": "5REwwzEUb2n3",
        "outputId": "c44f5b09-b509-4147-9c36-84184190b79d"
      },
      "execution_count": null,
      "outputs": [
        {
          "output_type": "stream",
          "name": "stdout",
          "text": [
            "7\n",
            "9\n",
            "After swapping\n",
            "9 7\n"
          ]
        }
      ]
    },
    {
      "cell_type": "code",
      "source": [
        "a=int(input(\"enter a value\"))\n",
        "fact=1\n",
        "for i in range(1,a+1):\n",
        "  fact*=i\n",
        "print(fact)  "
      ],
      "metadata": {
        "colab": {
          "base_uri": "https://localhost:8080/"
        },
        "id": "uQwSkLTrfEGB",
        "outputId": "1c1fb339-7a63-4d47-974f-96bfaa5907af"
      },
      "execution_count": null,
      "outputs": [
        {
          "output_type": "stream",
          "name": "stdout",
          "text": [
            "enter a value5\n",
            "120\n"
          ]
        }
      ]
    },
    {
      "cell_type": "code",
      "source": [
        "n=int(input())\n",
        "fact=1\n",
        "for i in range(5,0,-1):\n",
        "  fact=fact*i\n",
        "  print(i,end=\" \")\n",
        "print(fact)  "
      ],
      "metadata": {
        "colab": {
          "base_uri": "https://localhost:8080/"
        },
        "id": "IuQUX4oki-mG",
        "outputId": "eddaaf62-7d75-4c15-92fe-64f7e0e4b46b"
      },
      "execution_count": null,
      "outputs": [
        {
          "output_type": "stream",
          "name": "stdout",
          "text": [
            "5\n",
            "5 4 3 2 1 120\n"
          ]
        }
      ]
    },
    {
      "cell_type": "code",
      "source": [
        "def fact1(n):\n",
        "  fact=1\n",
        "  for i in range(1,n+1):\n",
        "    fact=fact*i\n",
        "    print(i,end=\" \")\n",
        "  return fact\n",
        "print(fact1(int(input())))    "
      ],
      "metadata": {
        "colab": {
          "base_uri": "https://localhost:8080/"
        },
        "id": "dy1kcF1OjeBV",
        "outputId": "6d9e43dc-43ed-499e-904f-69837de57b4a"
      },
      "execution_count": null,
      "outputs": [
        {
          "output_type": "stream",
          "name": "stdout",
          "text": [
            "5\n",
            "1 2 3 4 5 120\n"
          ]
        }
      ]
    },
    {
      "cell_type": "code",
      "source": [
        "sum=lambda n1,n2:n1+n2\n",
        "x=int(input(\"Enter the number: \"))\n",
        "y=int(input(\"Enter the number: \"))\n",
        "print(sum(x,y))"
      ],
      "metadata": {
        "colab": {
          "base_uri": "https://localhost:8080/"
        },
        "id": "W5P5ya-JoYRq",
        "outputId": "6c816273-83a4-452b-d43e-8b3eba50a406"
      },
      "execution_count": null,
      "outputs": [
        {
          "output_type": "stream",
          "name": "stdout",
          "text": [
            "Enter the number: 5\n",
            "Enter the number: 7\n",
            "12\n"
          ]
        }
      ]
    },
    {
      "cell_type": "code",
      "source": [
        "total=0; # global variable\n",
        "def sum(arg1,arg2):\n",
        "  total=arg1+arg2; # local variable\n",
        "  print(\"Inside the function local total: \", total)\n",
        "  return total;\n",
        "sum(10,20);\n",
        "print(\"Outside the function global total: \", total)"
      ],
      "metadata": {
        "colab": {
          "base_uri": "https://localhost:8080/"
        },
        "id": "pt5SMejM0WDN",
        "outputId": "615fdcff-395a-472e-b901-437123fa53fe"
      },
      "execution_count": null,
      "outputs": [
        {
          "output_type": "stream",
          "name": "stdout",
          "text": [
            "Inside the function local total:  30\n",
            "Outside the function global total:  0\n"
          ]
        }
      ]
    },
    {
      "cell_type": "code",
      "source": [
        "n=10\n",
        "sum=0\n",
        "for i in range(0,n+1):\n",
        "  sum+=i\n",
        "print(sum)"
      ],
      "metadata": {
        "colab": {
          "base_uri": "https://localhost:8080/"
        },
        "id": "Qd3SIUvd3yRN",
        "outputId": "04a0367f-6f28-439f-e5b1-ac5a00d42018"
      },
      "execution_count": null,
      "outputs": [
        {
          "output_type": "stream",
          "name": "stdout",
          "text": [
            "55\n"
          ]
        }
      ]
    },
    {
      "cell_type": "code",
      "source": [
        "def recur_sum(n):\n",
        "  if n<=1:\n",
        "    return n\n",
        "  else:\n",
        "    return n+recur_sum(n-1)\n",
        "num=int(input())\n",
        "if num<0:\n",
        "  print(\"Enter a positive number\")\n",
        "else:\n",
        "  print(\"thr sum is\",recur_sum(sum))  "
      ],
      "metadata": {
        "colab": {
          "base_uri": "https://localhost:8080/"
        },
        "id": "wmo9G6Lk-PXk",
        "outputId": "c6cda8c6-b5c0-467d-c87d-baffba51f468"
      },
      "execution_count": null,
      "outputs": [
        {
          "output_type": "stream",
          "name": "stdout",
          "text": [
            "8\n",
            "thr sum is 1540\n"
          ]
        }
      ]
    },
    {
      "cell_type": "code",
      "source": [
        "num=[1,2,3]\n",
        "print(num)\n",
        "*a,b=num\n",
        "print(a)\n",
        "print(b)\n",
        "b,*a=num\n",
        "print(a)\n",
        "print(b)"
      ],
      "metadata": {
        "colab": {
          "base_uri": "https://localhost:8080/"
        },
        "id": "cRnqd4UDXLUe",
        "outputId": "07208d70-0c15-43e5-c540-227f74bc81f9"
      },
      "execution_count": null,
      "outputs": [
        {
          "output_type": "stream",
          "name": "stdout",
          "text": [
            "[1, 2, 3]\n",
            "[1, 2]\n",
            "3\n",
            "[2, 3]\n",
            "1\n"
          ]
        }
      ]
    },
    {
      "cell_type": "code",
      "source": [
        "def fact1(n):\n",
        "  fact=1\n",
        "  for i in range(1,n+1):\n",
        "    fact=fact*i\n",
        "    if i<=(n):\n",
        "       print(+i,\"*\", end=\" \")\n",
        "       \n",
        "  print(\"=\",fact)  \n",
        "  \n",
        "  return fact\n",
        "print(fact1(int(input())))   "
      ],
      "metadata": {
        "colab": {
          "base_uri": "https://localhost:8080/"
        },
        "id": "zfcE1VskLQBY",
        "outputId": "233d3fd4-1d32-4d25-df25-df0925adec43"
      },
      "execution_count": null,
      "outputs": [
        {
          "output_type": "stream",
          "name": "stdout",
          "text": [
            "5\n",
            "1 * 2 * 3 * 4 * 5 * = 120\n",
            "120\n"
          ]
        }
      ]
    },
    {
      "cell_type": "markdown",
      "source": [
        "# **Tuples**"
      ],
      "metadata": {
        "id": "lGieFrwqgYgN"
      }
    },
    {
      "cell_type": "code",
      "source": [
        "value_tuple=(26,45,'hello')\n",
        "value_tuple.replace()\n",
        "print(value_tuple)"
      ],
      "metadata": {
        "colab": {
          "base_uri": "https://localhost:8080/",
          "height": 200
        },
        "id": "HE5waNlEgtD0",
        "outputId": "a660b254-c72a-479f-d16f-8513aceca4e8"
      },
      "execution_count": null,
      "outputs": [
        {
          "output_type": "error",
          "ename": "AttributeError",
          "evalue": "ignored",
          "traceback": [
            "\u001b[0;31m---------------------------------------------------------------------------\u001b[0m",
            "\u001b[0;31mAttributeError\u001b[0m                            Traceback (most recent call last)",
            "\u001b[0;32m<ipython-input-54-6666b5878636>\u001b[0m in \u001b[0;36m<module>\u001b[0;34m\u001b[0m\n\u001b[1;32m      1\u001b[0m \u001b[0mvalue_tuple\u001b[0m\u001b[0;34m=\u001b[0m\u001b[0;34m(\u001b[0m\u001b[0;36m26\u001b[0m\u001b[0;34m,\u001b[0m\u001b[0;36m45\u001b[0m\u001b[0;34m,\u001b[0m\u001b[0;34m'hello'\u001b[0m\u001b[0;34m)\u001b[0m\u001b[0;34m\u001b[0m\u001b[0;34m\u001b[0m\u001b[0m\n\u001b[0;32m----> 2\u001b[0;31m \u001b[0mvalue_tuple\u001b[0m\u001b[0;34m.\u001b[0m\u001b[0mreplace\u001b[0m\u001b[0;34m(\u001b[0m\u001b[0;34m)\u001b[0m\u001b[0;34m\u001b[0m\u001b[0;34m\u001b[0m\u001b[0m\n\u001b[0m\u001b[1;32m      3\u001b[0m \u001b[0mprint\u001b[0m\u001b[0;34m(\u001b[0m\u001b[0mvalue_tuple\u001b[0m\u001b[0;34m)\u001b[0m\u001b[0;34m\u001b[0m\u001b[0;34m\u001b[0m\u001b[0m\n",
            "\u001b[0;31mAttributeError\u001b[0m: 'tuple' object has no attribute 'replace'"
          ]
        }
      ]
    },
    {
      "cell_type": "code",
      "source": [
        "value_tuple=(26,45,'hello',7.5,'z',5,6.9)\n",
        "del(value_tuple[1])\n",
        "print(value_tuple)"
      ],
      "metadata": {
        "colab": {
          "base_uri": "https://localhost:8080/",
          "height": 200
        },
        "id": "5n3EBs5hlwGS",
        "outputId": "544f081c-777a-41d6-dd8f-4ec10ede059f"
      },
      "execution_count": null,
      "outputs": [
        {
          "output_type": "error",
          "ename": "TypeError",
          "evalue": "ignored",
          "traceback": [
            "\u001b[0;31m---------------------------------------------------------------------------\u001b[0m",
            "\u001b[0;31mTypeError\u001b[0m                                 Traceback (most recent call last)",
            "\u001b[0;32m<ipython-input-56-263221f4925b>\u001b[0m in \u001b[0;36m<module>\u001b[0;34m\u001b[0m\n\u001b[1;32m      1\u001b[0m \u001b[0mvalue_tuple\u001b[0m\u001b[0;34m=\u001b[0m\u001b[0;34m(\u001b[0m\u001b[0;36m26\u001b[0m\u001b[0;34m,\u001b[0m\u001b[0;36m45\u001b[0m\u001b[0;34m,\u001b[0m\u001b[0;34m'hello'\u001b[0m\u001b[0;34m,\u001b[0m\u001b[0;36m7.5\u001b[0m\u001b[0;34m,\u001b[0m\u001b[0;34m'z'\u001b[0m\u001b[0;34m,\u001b[0m\u001b[0;36m5\u001b[0m\u001b[0;34m,\u001b[0m\u001b[0;36m6.9\u001b[0m\u001b[0;34m)\u001b[0m\u001b[0;34m\u001b[0m\u001b[0;34m\u001b[0m\u001b[0m\n\u001b[0;32m----> 2\u001b[0;31m \u001b[0;32mdel\u001b[0m\u001b[0;34m(\u001b[0m\u001b[0mvalue_tuple\u001b[0m\u001b[0;34m[\u001b[0m\u001b[0;36m1\u001b[0m\u001b[0;34m]\u001b[0m\u001b[0;34m)\u001b[0m\u001b[0;34m\u001b[0m\u001b[0;34m\u001b[0m\u001b[0m\n\u001b[0m\u001b[1;32m      3\u001b[0m \u001b[0mprint\u001b[0m\u001b[0;34m(\u001b[0m\u001b[0mvalue_tuple\u001b[0m\u001b[0;34m)\u001b[0m\u001b[0;34m\u001b[0m\u001b[0;34m\u001b[0m\u001b[0m\n",
            "\u001b[0;31mTypeError\u001b[0m: 'tuple' object doesn't support item deletion"
          ]
        }
      ]
    },
    {
      "cell_type": "code",
      "source": [
        "value_tuple=(26,45,'hello',7.5,'z',5,6.9)\n",
        "del(value_tuple)\n",
        "print(value_tuple)"
      ],
      "metadata": {
        "colab": {
          "base_uri": "https://localhost:8080/",
          "height": 200
        },
        "id": "R8q908LBmdcg",
        "outputId": "5889d67c-5237-4a3e-e37f-39d2ec515944"
      },
      "execution_count": null,
      "outputs": [
        {
          "output_type": "error",
          "ename": "NameError",
          "evalue": "ignored",
          "traceback": [
            "\u001b[0;31m---------------------------------------------------------------------------\u001b[0m",
            "\u001b[0;31mNameError\u001b[0m                                 Traceback (most recent call last)",
            "\u001b[0;32m<ipython-input-58-27703dfa5473>\u001b[0m in \u001b[0;36m<module>\u001b[0;34m\u001b[0m\n\u001b[1;32m      1\u001b[0m \u001b[0mvalue_tuple\u001b[0m\u001b[0;34m=\u001b[0m\u001b[0;34m(\u001b[0m\u001b[0;36m26\u001b[0m\u001b[0;34m,\u001b[0m\u001b[0;36m45\u001b[0m\u001b[0;34m,\u001b[0m\u001b[0;34m'hello'\u001b[0m\u001b[0;34m,\u001b[0m\u001b[0;36m7.5\u001b[0m\u001b[0;34m,\u001b[0m\u001b[0;34m'z'\u001b[0m\u001b[0;34m,\u001b[0m\u001b[0;36m5\u001b[0m\u001b[0;34m,\u001b[0m\u001b[0;36m6.9\u001b[0m\u001b[0;34m)\u001b[0m\u001b[0;34m\u001b[0m\u001b[0;34m\u001b[0m\u001b[0m\n\u001b[1;32m      2\u001b[0m \u001b[0;32mdel\u001b[0m\u001b[0;34m(\u001b[0m\u001b[0mvalue_tuple\u001b[0m\u001b[0;34m)\u001b[0m\u001b[0;34m\u001b[0m\u001b[0;34m\u001b[0m\u001b[0m\n\u001b[0;32m----> 3\u001b[0;31m \u001b[0mprint\u001b[0m\u001b[0;34m(\u001b[0m\u001b[0mvalue_tuple\u001b[0m\u001b[0;34m)\u001b[0m\u001b[0;34m\u001b[0m\u001b[0;34m\u001b[0m\u001b[0m\n\u001b[0m",
            "\u001b[0;31mNameError\u001b[0m: name 'value_tuple' is not defined"
          ]
        }
      ]
    },
    {
      "cell_type": "code",
      "source": [
        "Tuple=('hello')\n",
        "n=3\n",
        "for i in range(int(n)):\n",
        "   Tuple=(Tuple,)\n",
        "   print(Tuple)"
      ],
      "metadata": {
        "id": "BjdFGZ4vm4v1",
        "colab": {
          "base_uri": "https://localhost:8080/"
        },
        "outputId": "a7f53fa5-d765-4abf-b967-b1b3edf40c14"
      },
      "execution_count": null,
      "outputs": [
        {
          "output_type": "stream",
          "name": "stdout",
          "text": [
            "('hello',)\n",
            "(('hello',),)\n",
            "((('hello',),),)\n"
          ]
        }
      ]
    },
    {
      "cell_type": "markdown",
      "source": [
        "# Inbuilt functions"
      ],
      "metadata": {
        "id": "Du_B0uLyfzpO"
      }
    },
    {
      "cell_type": "code",
      "source": [
        "a=(10,20,30,40,50)\n",
        "print(a)\n",
        "print(a[2])\n",
        "print(a[2:])\n",
        "print(a[2:4])\n",
        "a=(10,20,30,40,50,60,70,80,90,100)\n",
        "print(a[:4:3])\n",
        "print(a[-6:-4:1])\n",
        "print(a[-2])\n",
        "print(a[:-1:4])"
      ],
      "metadata": {
        "colab": {
          "base_uri": "https://localhost:8080/"
        },
        "id": "_NYtb2sYgmCM",
        "outputId": "d3c8a79f-bae8-46d0-8260-2c401bc3d860"
      },
      "execution_count": null,
      "outputs": [
        {
          "output_type": "stream",
          "name": "stdout",
          "text": [
            "(10, 20, 30, 40, 50)\n",
            "30\n",
            "(30, 40, 50)\n",
            "(30, 40)\n",
            "(10, 40)\n",
            "(50, 60)\n",
            "90\n",
            "(10, 50, 90)\n"
          ]
        }
      ]
    },
    {
      "cell_type": "code",
      "source": [
        "a=list((10,20,30,40,50,60,70,80,90,100))\n",
        "print(a[0:1]+a[3:6]+a[-2:-1])\n",
        "print(a[0:1]+a[3:6]+a[2:3]+a[-3:-1]+a[1:2]+a[-1:])"
      ],
      "metadata": {
        "colab": {
          "base_uri": "https://localhost:8080/"
        },
        "id": "PAhQ-2JXk2YK",
        "outputId": "adbb9c1b-5ad7-4867-82bf-85587639cd2f"
      },
      "execution_count": null,
      "outputs": [
        {
          "output_type": "stream",
          "name": "stdout",
          "text": [
            "[10, 40, 50, 60, 90]\n",
            "[10, 40, 50, 60, 30, 80, 90, 20, 100]\n"
          ]
        }
      ]
    },
    {
      "cell_type": "code",
      "source": [
        "a=(10,20,300,240,900,850,70,888,90,100)\n",
        "print(len(a))\n",
        "print(max(a))\n",
        "print(min(a))\n",
        "print(sum(a)//len(a))\n",
        "print(any(a))"
      ],
      "metadata": {
        "colab": {
          "base_uri": "https://localhost:8080/"
        },
        "id": "t2ay-zDWoKrB",
        "outputId": "032cccc7-98cc-4c43-b8a8-d9d61bb07522"
      },
      "execution_count": null,
      "outputs": [
        {
          "output_type": "stream",
          "name": "stdout",
          "text": [
            "10\n",
            "900\n",
            "10\n",
            "346\n",
            "True\n"
          ]
        }
      ]
    },
    {
      "cell_type": "code",
      "source": [
        "b=(1,2,3,0)\n",
        "print(any(b))\n",
        "print(all(b))"
      ],
      "metadata": {
        "colab": {
          "base_uri": "https://localhost:8080/"
        },
        "id": "IhE5_mwHp7_8",
        "outputId": "3abbca88-98ee-474e-bc52-35f61233ce50"
      },
      "execution_count": null,
      "outputs": [
        {
          "output_type": "stream",
          "name": "stdout",
          "text": [
            "True\n",
            "False\n"
          ]
        }
      ]
    },
    {
      "cell_type": "code",
      "source": [
        "b=(1,)\n",
        "print(any(b))\n",
        "print(all(b))"
      ],
      "metadata": {
        "colab": {
          "base_uri": "https://localhost:8080/"
        },
        "id": "ZX-0GowQqIzw",
        "outputId": "3ba2f005-1664-4741-8089-02a3b3247439"
      },
      "execution_count": null,
      "outputs": [
        {
          "output_type": "stream",
          "name": "stdout",
          "text": [
            "True\n",
            "True\n"
          ]
        }
      ]
    },
    {
      "cell_type": "code",
      "source": [
        "b=()\n",
        "print(any(b))\n",
        "print(all(b))"
      ],
      "metadata": {
        "colab": {
          "base_uri": "https://localhost:8080/"
        },
        "id": "5wpPGOCFqrvs",
        "outputId": "8e8fcf79-b9af-454c-e046-de9dcd39230e"
      },
      "execution_count": null,
      "outputs": [
        {
          "output_type": "stream",
          "name": "stdout",
          "text": [
            "False\n",
            "True\n"
          ]
        }
      ]
    },
    {
      "cell_type": "markdown",
      "source": [
        "# Day 4 "
      ],
      "metadata": {
        "id": "RkE3f45DlqL4"
      }
    },
    {
      "cell_type": "code",
      "source": [
        "tuple=(\"apple\",\"byte\",\"computer\")\n",
        "n=2\n",
        "for i in range(n):\n",
        "  print(tuple[1])\n",
        "  break"
      ],
      "metadata": {
        "colab": {
          "base_uri": "https://localhost:8080/"
        },
        "id": "jr7i1Wwnprff",
        "outputId": "b8cbfc04-4079-4733-f095-35873662915e"
      },
      "execution_count": null,
      "outputs": [
        {
          "output_type": "stream",
          "name": "stdout",
          "text": [
            "byte\n"
          ]
        }
      ]
    },
    {
      "cell_type": "code",
      "source": [
        "tuple=(\"apple\",\"byte\",\"computer\")\n",
        "n=2\n",
        "for i in range(n):\n",
        "  print(tuple[i])\n",
        "break"
      ],
      "metadata": {
        "colab": {
          "base_uri": "https://localhost:8080/",
          "height": 165
        },
        "id": "z_kztV5aqAPO",
        "outputId": "d85bf806-1520-4527-8902-cb87a58b22cb"
      },
      "execution_count": null,
      "outputs": [
        {
          "output_type": "stream",
          "name": "stdout",
          "text": [
            "apple\n",
            "byte\n"
          ]
        },
        {
          "output_type": "error",
          "ename": "SyntaxError",
          "evalue": "ignored",
          "traceback": [
            "\u001b[0;36m  File \u001b[0;32m\"<ipython-input-4-968e78396be5>\"\u001b[0;36m, line \u001b[0;32m5\u001b[0m\n\u001b[0;31m    break\u001b[0m\n\u001b[0m    ^\u001b[0m\n\u001b[0;31mSyntaxError\u001b[0m\u001b[0;31m:\u001b[0m 'break' outside loop\n"
          ]
        }
      ]
    },
    {
      "cell_type": "code",
      "source": [
        "tuple=(\"apple\",\"byte\",\"computer\")\n",
        "n=1\n",
        "if n==1:\n",
        "  print (tuple[n])"
      ],
      "metadata": {
        "colab": {
          "base_uri": "https://localhost:8080/"
        },
        "id": "XGeZuAfcqdbF",
        "outputId": "6151c7b1-f265-4db2-83e5-a5505e1c993a"
      },
      "execution_count": null,
      "outputs": [
        {
          "output_type": "stream",
          "name": "stdout",
          "text": [
            "byte\n"
          ]
        }
      ]
    },
    {
      "cell_type": "markdown",
      "source": [
        "# Dictionary"
      ],
      "metadata": {
        "id": "1f4CqgE1sZiD"
      }
    },
    {
      "cell_type": "code",
      "source": [
        "dic={1:\"Monday\",2:5,3:\"Fridya\",4:8.5,5.5:5}\n",
        "print(dic)"
      ],
      "metadata": {
        "colab": {
          "base_uri": "https://localhost:8080/"
        },
        "id": "1MTvquR6smA8",
        "outputId": "fa712a54-9740-4edc-9f98-6eedac6a2c3d"
      },
      "execution_count": null,
      "outputs": [
        {
          "output_type": "stream",
          "name": "stdout",
          "text": [
            "{1: 'Monday', 2: 5, 3: 'Fridya', 4: 8.5, 5.5: 5}\n"
          ]
        }
      ]
    },
    {
      "cell_type": "code",
      "source": [
        "dic={1:\"Monday\",2:5,3:\"Fridya\",4:,5.5:5}\n",
        "print(dic)"
      ],
      "metadata": {
        "colab": {
          "base_uri": "https://localhost:8080/",
          "height": 130
        },
        "id": "vzgLBMX0t8Y_",
        "outputId": "1df42f62-e35d-491e-d2d3-a62a06e88644"
      },
      "execution_count": null,
      "outputs": [
        {
          "output_type": "error",
          "ename": "SyntaxError",
          "evalue": "ignored",
          "traceback": [
            "\u001b[0;36m  File \u001b[0;32m\"<ipython-input-12-0a7ec243d812>\"\u001b[0;36m, line \u001b[0;32m1\u001b[0m\n\u001b[0;31m    dic={1:\"Monday\",2:5,3:\"Fridya\",4:,5.5:5}\u001b[0m\n\u001b[0m                                     ^\u001b[0m\n\u001b[0;31mSyntaxError\u001b[0m\u001b[0;31m:\u001b[0m invalid syntax\n"
          ]
        }
      ]
    },
    {
      "cell_type": "code",
      "source": [
        "dic={1:\"Monday\",1:5,3:\"Fridya\",4:8.5,5.5:5}\n",
        "print(dic)"
      ],
      "metadata": {
        "colab": {
          "base_uri": "https://localhost:8080/"
        },
        "id": "FgLxbdspu6F6",
        "outputId": "f90e69d9-2507-487f-de04-b9a5e73a3010"
      },
      "execution_count": null,
      "outputs": [
        {
          "output_type": "stream",
          "name": "stdout",
          "text": [
            "{1: 5, 3: 'Fridya', 4: 8.5, 5.5: 5}\n"
          ]
        }
      ]
    },
    {
      "cell_type": "code",
      "source": [
        "dic={1:\"Monday\",2:5,3:\"Fridya\",4:8.5,5.5:5}\n",
        "for i in dic:\n",
        "  print(i)"
      ],
      "metadata": {
        "colab": {
          "base_uri": "https://localhost:8080/"
        },
        "id": "yVxBqVNPwGpI",
        "outputId": "346dbd0e-bd37-4dff-eba9-085a128f6dad"
      },
      "execution_count": null,
      "outputs": [
        {
          "output_type": "stream",
          "name": "stdout",
          "text": [
            "1\n",
            "2\n",
            "3\n",
            "4\n",
            "5.5\n"
          ]
        }
      ]
    },
    {
      "cell_type": "code",
      "source": [
        "dic={1:\"Monday\",2:5,3:\"Fridya\",4:8.5,5.5:5}\n",
        "for i in dic:\n",
        "  print(dic[i])"
      ],
      "metadata": {
        "colab": {
          "base_uri": "https://localhost:8080/"
        },
        "id": "0wbFuGA3wWxt",
        "outputId": "8cf8b611-decd-4f1c-9391-1ca25e4df851"
      },
      "execution_count": null,
      "outputs": [
        {
          "output_type": "stream",
          "name": "stdout",
          "text": [
            "Monday\n",
            "5\n",
            "Fridya\n",
            "8.5\n",
            "5\n"
          ]
        }
      ]
    },
    {
      "cell_type": "code",
      "source": [
        "dic={1:(2,4,5),\"NAME\":\"PARAMESH\",4:[5,7]}\n",
        "print(dic)"
      ],
      "metadata": {
        "colab": {
          "base_uri": "https://localhost:8080/"
        },
        "id": "A5G8QKaGySSu",
        "outputId": "9e8784ee-5b15-428a-b978-0013f9dd57f1"
      },
      "execution_count": null,
      "outputs": [
        {
          "output_type": "stream",
          "name": "stdout",
          "text": [
            "{1: (2, 4, 5), 'NAME': 'PARAMESH', 4: [5, 7]}\n"
          ]
        }
      ]
    },
    {
      "cell_type": "code",
      "source": [
        "dic={dic1:{a:(1,2,3),b:\"race\"},dic2:{1:\"soujanya\"}}\n",
        "print(dic)"
      ],
      "metadata": {
        "colab": {
          "base_uri": "https://localhost:8080/",
          "height": 183
        },
        "id": "0gShpw2KzDQi",
        "outputId": "4de6f48f-7a87-4a65-ccde-d012efe72c04"
      },
      "execution_count": null,
      "outputs": [
        {
          "output_type": "error",
          "ename": "NameError",
          "evalue": "ignored",
          "traceback": [
            "\u001b[0;31m---------------------------------------------------------------------------\u001b[0m",
            "\u001b[0;31mNameError\u001b[0m                                 Traceback (most recent call last)",
            "\u001b[0;32m<ipython-input-26-ec3b140d3947>\u001b[0m in \u001b[0;36m<module>\u001b[0;34m\u001b[0m\n\u001b[0;32m----> 1\u001b[0;31m \u001b[0mdic\u001b[0m\u001b[0;34m=\u001b[0m\u001b[0;34m{\u001b[0m\u001b[0mdic1\u001b[0m\u001b[0;34m:\u001b[0m\u001b[0;34m{\u001b[0m\u001b[0ma\u001b[0m\u001b[0;34m:\u001b[0m\u001b[0;34m(\u001b[0m\u001b[0;36m1\u001b[0m\u001b[0;34m,\u001b[0m\u001b[0;36m2\u001b[0m\u001b[0;34m,\u001b[0m\u001b[0;36m3\u001b[0m\u001b[0;34m)\u001b[0m\u001b[0;34m,\u001b[0m\u001b[0mb\u001b[0m\u001b[0;34m:\u001b[0m\u001b[0;34m\"race\"\u001b[0m\u001b[0;34m}\u001b[0m\u001b[0;34m,\u001b[0m\u001b[0mdic2\u001b[0m\u001b[0;34m:\u001b[0m\u001b[0;34m{\u001b[0m\u001b[0;36m1\u001b[0m\u001b[0;34m:\u001b[0m\u001b[0;34m\"soujanya\"\u001b[0m\u001b[0;34m}\u001b[0m\u001b[0;34m}\u001b[0m\u001b[0;34m\u001b[0m\u001b[0;34m\u001b[0m\u001b[0m\n\u001b[0m\u001b[1;32m      2\u001b[0m \u001b[0mprint\u001b[0m\u001b[0;34m(\u001b[0m\u001b[0mdic\u001b[0m\u001b[0;34m)\u001b[0m\u001b[0;34m\u001b[0m\u001b[0;34m\u001b[0m\u001b[0m\n",
            "\u001b[0;31mNameError\u001b[0m: name 'dic1' is not defined"
          ]
        }
      ]
    },
    {
      "cell_type": "code",
      "source": [
        "dic={1:\"PARA\",2:4,3:{5:\"HELLO\",6:9.5}}\n",
        "print(dic[3][5])"
      ],
      "metadata": {
        "colab": {
          "base_uri": "https://localhost:8080/"
        },
        "id": "xD_XDeYi0ne9",
        "outputId": "5db1329d-4b72-40c8-a5ee-63926f104b9d"
      },
      "execution_count": null,
      "outputs": [
        {
          "output_type": "stream",
          "name": "stdout",
          "text": [
            "HELLO\n"
          ]
        }
      ]
    },
    {
      "cell_type": "code",
      "source": [
        "dic={1:\"PARA\",2:4,3:{5:\"HELLO\",6:9.5}}\n",
        "print(dic[3][5])"
      ],
      "metadata": {
        "colab": {
          "base_uri": "https://localhost:8080/"
        },
        "id": "5JodSg9Y1aZL",
        "outputId": "e7a7bc51-86cb-4e42-c818-2137f3787c0b"
      },
      "execution_count": null,
      "outputs": [
        {
          "output_type": "stream",
          "name": "stdout",
          "text": [
            "HELLO\n"
          ]
        }
      ]
    },
    {
      "cell_type": "code",
      "source": [
        "dic={1:\"PARA\",2:4,3:{5:\"HELLO\",6:9.5}}\n",
        "print(dic[3][6])\n",
        "dic[3][6]=\"soujanya\"\n",
        "print(dic[3][6])"
      ],
      "metadata": {
        "colab": {
          "base_uri": "https://localhost:8080/"
        },
        "id": "UjYZyVj42lWq",
        "outputId": "8c904f75-f511-4ea0-8926-06393ecb0abe"
      },
      "execution_count": null,
      "outputs": [
        {
          "output_type": "stream",
          "name": "stdout",
          "text": [
            "9.5\n",
            "soujanya\n"
          ]
        }
      ]
    },
    {
      "cell_type": "code",
      "source": [
        "dic={}\n",
        "dic[0]=\"Apple\"\n",
        "dic[1]=\"work\"\n",
        "dic[3]=\"hard\"\n",
        "print(dic)\n",
        "dic['new_set']=1,5,8\n",
        "print(dic)\n",
        "dic[0]=\"google\"\n",
        "print(dic)"
      ],
      "metadata": {
        "colab": {
          "base_uri": "https://localhost:8080/"
        },
        "id": "gi-6piTg3kfO",
        "outputId": "78d31bcb-057a-4d5e-b5b0-13a464b481a1"
      },
      "execution_count": null,
      "outputs": [
        {
          "output_type": "stream",
          "name": "stdout",
          "text": [
            "{0: 'Apple', 1: 'work', 3: 'hard'}\n",
            "{0: 'Apple', 1: 'work', 3: 'hard', 'new_set': (1, 5, 8)}\n",
            "{0: 'google', 1: 'work', 3: 'hard', 'new_set': (1, 5, 8)}\n"
          ]
        }
      ]
    },
    {
      "cell_type": "markdown",
      "source": [
        "# Set"
      ],
      "metadata": {
        "id": "EjRN3G-f6RyT"
      }
    },
    {
      "cell_type": "code",
      "source": [
        "value_set={2,5.9,\"python\",'o'}\n",
        "print(value_set)"
      ],
      "metadata": {
        "colab": {
          "base_uri": "https://localhost:8080/"
        },
        "id": "h_7euoU0973k",
        "outputId": "1ce65182-431c-45e4-ec7c-8c7244019799"
      },
      "execution_count": null,
      "outputs": [
        {
          "output_type": "stream",
          "name": "stdout",
          "text": [
            "{'python', 2, 5.9, 'o'}\n"
          ]
        }
      ]
    },
    {
      "cell_type": "code",
      "source": [
        "value_set={2,5.9,\"python\",'o'}\n",
        "for i in value_set:\n",
        "  print(value_set)\n",
        "  break"
      ],
      "metadata": {
        "colab": {
          "base_uri": "https://localhost:8080/"
        },
        "id": "2cXr8f4-CBmV",
        "outputId": "e9f51cfd-5b21-4cf8-8bea-9992e80fc94a"
      },
      "execution_count": null,
      "outputs": [
        {
          "output_type": "stream",
          "name": "stdout",
          "text": [
            "{'python', 2, 5.9, 'o'}\n"
          ]
        }
      ]
    },
    {
      "cell_type": "code",
      "source": [
        "value_set={2,5.9,\"python\",'o'}\n",
        "print(7 in value_set)"
      ],
      "metadata": {
        "colab": {
          "base_uri": "https://localhost:8080/"
        },
        "id": "Dx11a7CHDgp2",
        "outputId": "fd97c579-a8ef-4503-8d37-ee2e103166ca"
      },
      "execution_count": null,
      "outputs": [
        {
          "output_type": "stream",
          "name": "stdout",
          "text": [
            "False\n"
          ]
        }
      ]
    },
    {
      "cell_type": "code",
      "source": [
        "d = {1: \"a\", 2: \"b\"}\n",
        "d.clear()\n",
        "print(d)"
      ],
      "metadata": {
        "colab": {
          "base_uri": "https://localhost:8080/"
        },
        "id": "izw0d6QMHjr2",
        "outputId": "17d95eca-5955-42eb-d037-713ecc39114e"
      },
      "execution_count": null,
      "outputs": [
        {
          "output_type": "stream",
          "name": "stdout",
          "text": [
            "{}\n"
          ]
        }
      ]
    },
    {
      "cell_type": "code",
      "source": [
        "original = {1:'a', 2:'b'}\n",
        "new = original.copy()\n",
        "print(new)"
      ],
      "metadata": {
        "colab": {
          "base_uri": "https://localhost:8080/"
        },
        "id": "sPPfwIORH3lj",
        "outputId": "c9ebf6d0-65a7-486a-8e9a-7a93e01de0d9"
      },
      "execution_count": null,
      "outputs": [
        {
          "output_type": "stream",
          "name": "stdout",
          "text": [
            "{1: 'a', 2: 'b'}\n"
          ]
        }
      ]
    },
    {
      "cell_type": "code",
      "source": [
        "seq = {'a', 'b', 'c', 'd', 'e'}\n",
        "\n",
        "res_dict = dict.fromkeys(seq)\n",
        "\n",
        "print(\"The newly created dict with None values : \" + str(res_dict))\n",
        "\n",
        "res_dict2 = dict.fromkeys(seq, 1)\n",
        "\n",
        "print(\"The newly created dict with 1 as value : \" + str(res_dict2))\n"
      ],
      "metadata": {
        "colab": {
          "base_uri": "https://localhost:8080/"
        },
        "id": "g-HZvM5TIXDK",
        "outputId": "045bb1c0-f1d9-4774-a5d0-0c0e77af0243"
      },
      "execution_count": null,
      "outputs": [
        {
          "output_type": "stream",
          "name": "stdout",
          "text": [
            "The newly created dict with None values : {'e': None, 'a': None, 'c': None, 'b': None, 'd': None}\n",
            "The newly created dict with 1 as value : {'e': 1, 'a': 1, 'c': 1, 'b': 1, 'd': 1}\n"
          ]
        }
      ]
    },
    {
      "cell_type": "code",
      "source": [
        "d = {'c': 'g', 't': 'b'}\n",
        "print(d.get('c'))"
      ],
      "metadata": {
        "colab": {
          "base_uri": "https://localhost:8080/"
        },
        "id": "zne8ZSqZJZft",
        "outputId": "0e047809-4283-4588-e4a0-603b6a13d805"
      },
      "execution_count": null,
      "outputs": [
        {
          "output_type": "stream",
          "name": "stdout",
          "text": [
            "g\n"
          ]
        }
      ]
    },
    {
      "cell_type": "markdown",
      "source": [
        "# **Week 3** - Day-1"
      ],
      "metadata": {
        "id": "TEz11AMRO1bB"
      }
    },
    {
      "cell_type": "code",
      "source": [
        "a,b,c,d,e=input().split(\",\")\n",
        "print(a,b,c,d,e)"
      ],
      "metadata": {
        "colab": {
          "base_uri": "https://localhost:8080/"
        },
        "id": "TCp3lK-tURC9",
        "outputId": "63ee61aa-2781-48b4-ac56-1081d48df074"
      },
      "execution_count": null,
      "outputs": [
        {
          "output_type": "stream",
          "name": "stdout",
          "text": [
            "1,2,3,4,5\n",
            "1 2 3 4 5\n"
          ]
        }
      ]
    },
    {
      "cell_type": "code",
      "source": [
        "a,b,c,d,e=input().split(\",\")\n",
        "print(a,b,c,d,e)"
      ],
      "metadata": {
        "colab": {
          "base_uri": "https://localhost:8080/"
        },
        "id": "lp3DxGkNVYkT",
        "outputId": "474290ed-82de-4b0e-de2a-57b836b11791"
      },
      "execution_count": null,
      "outputs": [
        {
          "output_type": "stream",
          "name": "stdout",
          "text": [
            "s,b,3,5,6\n",
            "s b 3 5 6\n"
          ]
        }
      ]
    },
    {
      "cell_type": "code",
      "source": [
        "a,b,c,d,e=input().split(\",\",2)\n",
        "print(a,b,c,d,e)"
      ],
      "metadata": {
        "colab": {
          "base_uri": "https://localhost:8080/",
          "height": 200
        },
        "id": "8zWkYfIkX4To",
        "outputId": "658ddcfe-b5aa-49ae-a8a4-7d1dc571f136"
      },
      "execution_count": null,
      "outputs": [
        {
          "name": "stdout",
          "output_type": "stream",
          "text": [
            "1,2,3,4,5\n"
          ]
        },
        {
          "output_type": "error",
          "ename": "ValueError",
          "evalue": "ignored",
          "traceback": [
            "\u001b[0;31m---------------------------------------------------------------------------\u001b[0m",
            "\u001b[0;31mValueError\u001b[0m                                Traceback (most recent call last)",
            "\u001b[0;32m<ipython-input-9-9172430c6c5e>\u001b[0m in \u001b[0;36m<module>\u001b[0;34m\u001b[0m\n\u001b[0;32m----> 1\u001b[0;31m \u001b[0ma\u001b[0m\u001b[0;34m,\u001b[0m\u001b[0mb\u001b[0m\u001b[0;34m,\u001b[0m\u001b[0mc\u001b[0m\u001b[0;34m,\u001b[0m\u001b[0md\u001b[0m\u001b[0;34m,\u001b[0m\u001b[0me\u001b[0m\u001b[0;34m=\u001b[0m\u001b[0minput\u001b[0m\u001b[0;34m(\u001b[0m\u001b[0;34m)\u001b[0m\u001b[0;34m.\u001b[0m\u001b[0msplit\u001b[0m\u001b[0;34m(\u001b[0m\u001b[0;34m\",\"\u001b[0m\u001b[0;34m,\u001b[0m\u001b[0;36m2\u001b[0m\u001b[0;34m)\u001b[0m\u001b[0;34m\u001b[0m\u001b[0;34m\u001b[0m\u001b[0m\n\u001b[0m\u001b[1;32m      2\u001b[0m \u001b[0mprint\u001b[0m\u001b[0;34m(\u001b[0m\u001b[0ma\u001b[0m\u001b[0;34m,\u001b[0m\u001b[0mb\u001b[0m\u001b[0;34m,\u001b[0m\u001b[0mc\u001b[0m\u001b[0;34m,\u001b[0m\u001b[0md\u001b[0m\u001b[0;34m,\u001b[0m\u001b[0me\u001b[0m\u001b[0;34m)\u001b[0m\u001b[0;34m\u001b[0m\u001b[0;34m\u001b[0m\u001b[0m\n",
            "\u001b[0;31mValueError\u001b[0m: not enough values to unpack (expected 5, got 3)"
          ]
        }
      ]
    },
    {
      "cell_type": "code",
      "source": [
        "# Giving value to the variables using split() and format() functions\n",
        "\n",
        "a,b=input().split(\",\")\n",
        "print((\"a={}\"  \" and \"  \"b={}\").format(a,b))\n",
        "print((\"a={}\"  \" and \"  \"b={}\").format(b,a))"
      ],
      "metadata": {
        "colab": {
          "base_uri": "https://localhost:8080/"
        },
        "id": "CuCYaJa_Z1gT",
        "outputId": "92465d27-f721-4688-e247-0325143551ec"
      },
      "execution_count": null,
      "outputs": [
        {
          "output_type": "stream",
          "name": "stdout",
          "text": [
            "10,20\n",
            "a=10 and b=20\n",
            "a=20 and b=10\n"
          ]
        }
      ]
    },
    {
      "cell_type": "code",
      "source": [
        "a,b=input().split(\",\")\n",
        "print((\"a={1} and b={2}\").format(a,b))\n",
        "print((\"a={2} and b={1}\").format(a,b))"
      ],
      "metadata": {
        "colab": {
          "base_uri": "https://localhost:8080/",
          "height": 217
        },
        "id": "hZ62Y2QOeWfN",
        "outputId": "bae6de85-933c-4f10-b727-d62ee118807e"
      },
      "execution_count": null,
      "outputs": [
        {
          "name": "stdout",
          "output_type": "stream",
          "text": [
            "10,20\n"
          ]
        },
        {
          "output_type": "error",
          "ename": "IndexError",
          "evalue": "ignored",
          "traceback": [
            "\u001b[0;31m---------------------------------------------------------------------------\u001b[0m",
            "\u001b[0;31mIndexError\u001b[0m                                Traceback (most recent call last)",
            "\u001b[0;32m<ipython-input-22-40df75222c98>\u001b[0m in \u001b[0;36m<module>\u001b[0;34m\u001b[0m\n\u001b[1;32m      1\u001b[0m \u001b[0ma\u001b[0m\u001b[0;34m,\u001b[0m\u001b[0mb\u001b[0m\u001b[0;34m=\u001b[0m\u001b[0minput\u001b[0m\u001b[0;34m(\u001b[0m\u001b[0;34m)\u001b[0m\u001b[0;34m.\u001b[0m\u001b[0msplit\u001b[0m\u001b[0;34m(\u001b[0m\u001b[0;34m\",\"\u001b[0m\u001b[0;34m)\u001b[0m\u001b[0;34m\u001b[0m\u001b[0;34m\u001b[0m\u001b[0m\n\u001b[0;32m----> 2\u001b[0;31m \u001b[0mprint\u001b[0m\u001b[0;34m(\u001b[0m\u001b[0;34m(\u001b[0m\u001b[0;34m\"a={1} and b={2}\"\u001b[0m\u001b[0;34m)\u001b[0m\u001b[0;34m.\u001b[0m\u001b[0mformat\u001b[0m\u001b[0;34m(\u001b[0m\u001b[0ma\u001b[0m\u001b[0;34m,\u001b[0m\u001b[0mb\u001b[0m\u001b[0;34m)\u001b[0m\u001b[0;34m)\u001b[0m\u001b[0;34m\u001b[0m\u001b[0;34m\u001b[0m\u001b[0m\n\u001b[0m\u001b[1;32m      3\u001b[0m \u001b[0mprint\u001b[0m\u001b[0;34m(\u001b[0m\u001b[0;34m(\u001b[0m\u001b[0;34m\"a={2} and b={1}\"\u001b[0m\u001b[0;34m)\u001b[0m\u001b[0;34m.\u001b[0m\u001b[0mformat\u001b[0m\u001b[0;34m(\u001b[0m\u001b[0ma\u001b[0m\u001b[0;34m,\u001b[0m\u001b[0mb\u001b[0m\u001b[0;34m)\u001b[0m\u001b[0;34m)\u001b[0m\u001b[0;34m\u001b[0m\u001b[0;34m\u001b[0m\u001b[0m\n",
            "\u001b[0;31mIndexError\u001b[0m: Replacement index 2 out of range for positional args tuple"
          ]
        }
      ]
    },
    {
      "cell_type": "code",
      "source": [
        "a,b=input().split(\",\")\n",
        "print((\"a={-1} and b={-2}\").format(a,b))\n",
        "print((\"a={-2} and b={-1}\").format(a,b))"
      ],
      "metadata": {
        "colab": {
          "base_uri": "https://localhost:8080/",
          "height": 217
        },
        "id": "yKjlTg0We-f0",
        "outputId": "9eba36d9-4a43-415b-c56f-634a95ba5a6d"
      },
      "execution_count": null,
      "outputs": [
        {
          "name": "stdout",
          "output_type": "stream",
          "text": [
            "10,20\n"
          ]
        },
        {
          "output_type": "error",
          "ename": "KeyError",
          "evalue": "ignored",
          "traceback": [
            "\u001b[0;31m---------------------------------------------------------------------------\u001b[0m",
            "\u001b[0;31mKeyError\u001b[0m                                  Traceback (most recent call last)",
            "\u001b[0;32m<ipython-input-23-80ab72f334a1>\u001b[0m in \u001b[0;36m<module>\u001b[0;34m\u001b[0m\n\u001b[1;32m      1\u001b[0m \u001b[0ma\u001b[0m\u001b[0;34m,\u001b[0m\u001b[0mb\u001b[0m\u001b[0;34m=\u001b[0m\u001b[0minput\u001b[0m\u001b[0;34m(\u001b[0m\u001b[0;34m)\u001b[0m\u001b[0;34m.\u001b[0m\u001b[0msplit\u001b[0m\u001b[0;34m(\u001b[0m\u001b[0;34m\",\"\u001b[0m\u001b[0;34m)\u001b[0m\u001b[0;34m\u001b[0m\u001b[0;34m\u001b[0m\u001b[0m\n\u001b[0;32m----> 2\u001b[0;31m \u001b[0mprint\u001b[0m\u001b[0;34m(\u001b[0m\u001b[0;34m(\u001b[0m\u001b[0;34m\"a={-1} and b={-2}\"\u001b[0m\u001b[0;34m)\u001b[0m\u001b[0;34m.\u001b[0m\u001b[0mformat\u001b[0m\u001b[0;34m(\u001b[0m\u001b[0ma\u001b[0m\u001b[0;34m,\u001b[0m\u001b[0mb\u001b[0m\u001b[0;34m)\u001b[0m\u001b[0;34m)\u001b[0m\u001b[0;34m\u001b[0m\u001b[0;34m\u001b[0m\u001b[0m\n\u001b[0m\u001b[1;32m      3\u001b[0m \u001b[0mprint\u001b[0m\u001b[0;34m(\u001b[0m\u001b[0;34m(\u001b[0m\u001b[0;34m\"a={-2} and b={-1}\"\u001b[0m\u001b[0;34m)\u001b[0m\u001b[0;34m.\u001b[0m\u001b[0mformat\u001b[0m\u001b[0;34m(\u001b[0m\u001b[0ma\u001b[0m\u001b[0;34m,\u001b[0m\u001b[0mb\u001b[0m\u001b[0;34m)\u001b[0m\u001b[0;34m)\u001b[0m\u001b[0;34m\u001b[0m\u001b[0;34m\u001b[0m\u001b[0m\n",
            "\u001b[0;31mKeyError\u001b[0m: '-1'"
          ]
        }
      ]
    },
    {
      "cell_type": "markdown",
      "source": [
        "# List comprehension"
      ],
      "metadata": {
        "id": "XW8G347vflUX"
      }
    },
    {
      "cell_type": "code",
      "source": [
        "x,y=map(int,input().split())\n",
        "print(x,y)"
      ],
      "metadata": {
        "colab": {
          "base_uri": "https://localhost:8080/"
        },
        "id": "Qru9SqIefqEO",
        "outputId": "e019afa5-ed60-474c-9b7e-6be789597bad"
      },
      "execution_count": null,
      "outputs": [
        {
          "output_type": "stream",
          "name": "stdout",
          "text": [
            "10 20\n",
            "10 20\n"
          ]
        }
      ]
    },
    {
      "cell_type": "code",
      "source": [
        "x,y=[int(x) for x in input().split()]\n",
        "print(\"First Number is:\",x)\n",
        "print(\"Second Number is\",y)"
      ],
      "metadata": {
        "colab": {
          "base_uri": "https://localhost:8080/"
        },
        "id": "CPLYatC9pQW1",
        "outputId": "04f97007-5f39-4632-abf5-829e61957b53"
      },
      "execution_count": null,
      "outputs": [
        {
          "output_type": "stream",
          "name": "stdout",
          "text": [
            "10 20\n",
            "First Number is: 10\n",
            "Second Number is 20\n"
          ]
        }
      ]
    },
    {
      "cell_type": "code",
      "source": [
        "a,b=[int(x) for x in input().split()]\n",
        "print(a,b)"
      ],
      "metadata": {
        "colab": {
          "base_uri": "https://localhost:8080/"
        },
        "id": "8laHleJJqLrH",
        "outputId": "1dab3350-b6a5-4e21-b771-6c25ad916bae"
      },
      "execution_count": null,
      "outputs": [
        {
          "output_type": "stream",
          "name": "stdout",
          "text": [
            "10 20\n",
            "10 20\n"
          ]
        }
      ]
    },
    {
      "cell_type": "code",
      "source": [
        "a=[int(x) for x in input().split()]\n",
        "print(a)"
      ],
      "metadata": {
        "colab": {
          "base_uri": "https://localhost:8080/"
        },
        "id": "LIXdgO-Orv6W",
        "outputId": "e0f0f0c7-f3fc-4ef8-89bd-99e8bd3e53f0"
      },
      "execution_count": null,
      "outputs": [
        {
          "output_type": "stream",
          "name": "stdout",
          "text": [
            "10 20 30 40 50\n",
            "[10, 20, 30, 40, 50]\n"
          ]
        }
      ]
    },
    {
      "cell_type": "code",
      "source": [
        "a=(\"A\",\"B\",\"A\",\"C\",\"D\",\"B\",\"E\")\n",
        "b=(str(x) for x in a.split)\n",
        "print(b)"
      ],
      "metadata": {
        "colab": {
          "base_uri": "https://localhost:8080/",
          "height": 200
        },
        "id": "lst18QLksgmp",
        "outputId": "8ff0e2cd-68bc-43a7-b444-2ae3d7ad11d9"
      },
      "execution_count": null,
      "outputs": [
        {
          "output_type": "error",
          "ename": "AttributeError",
          "evalue": "ignored",
          "traceback": [
            "\u001b[0;31m---------------------------------------------------------------------------\u001b[0m",
            "\u001b[0;31mAttributeError\u001b[0m                            Traceback (most recent call last)",
            "\u001b[0;32m<ipython-input-45-a023d232fda0>\u001b[0m in \u001b[0;36m<module>\u001b[0;34m\u001b[0m\n\u001b[1;32m      1\u001b[0m \u001b[0ma\u001b[0m\u001b[0;34m=\u001b[0m\u001b[0;34m(\u001b[0m\u001b[0;34m\"A\"\u001b[0m\u001b[0;34m,\u001b[0m\u001b[0;34m\"B\"\u001b[0m\u001b[0;34m,\u001b[0m\u001b[0;34m\"A\"\u001b[0m\u001b[0;34m,\u001b[0m\u001b[0;34m\"C\"\u001b[0m\u001b[0;34m,\u001b[0m\u001b[0;34m\"D\"\u001b[0m\u001b[0;34m,\u001b[0m\u001b[0;34m\"B\"\u001b[0m\u001b[0;34m,\u001b[0m\u001b[0;34m\"E\"\u001b[0m\u001b[0;34m)\u001b[0m\u001b[0;34m\u001b[0m\u001b[0;34m\u001b[0m\u001b[0m\n\u001b[0;32m----> 2\u001b[0;31m \u001b[0mb\u001b[0m\u001b[0;34m=\u001b[0m\u001b[0;34m(\u001b[0m\u001b[0mstr\u001b[0m\u001b[0;34m(\u001b[0m\u001b[0mx\u001b[0m\u001b[0;34m)\u001b[0m \u001b[0;32mfor\u001b[0m \u001b[0mx\u001b[0m \u001b[0;32min\u001b[0m \u001b[0ma\u001b[0m\u001b[0;34m.\u001b[0m\u001b[0msplit\u001b[0m\u001b[0;34m)\u001b[0m\u001b[0;34m\u001b[0m\u001b[0;34m\u001b[0m\u001b[0m\n\u001b[0m\u001b[1;32m      3\u001b[0m \u001b[0mprint\u001b[0m\u001b[0;34m(\u001b[0m\u001b[0mb\u001b[0m\u001b[0;34m)\u001b[0m\u001b[0;34m\u001b[0m\u001b[0;34m\u001b[0m\u001b[0m\n",
            "\u001b[0;31mAttributeError\u001b[0m: 'tuple' object has no attribute 'split'"
          ]
        }
      ]
    },
    {
      "cell_type": "markdown",
      "source": [
        "# File Handling"
      ],
      "metadata": {
        "id": "nI24OGDavpI5"
      }
    },
    {
      "cell_type": "code",
      "source": [
        "f=open(\"/DEMOFILE.txt\",\"r\")\n",
        "print(f.read())"
      ],
      "metadata": {
        "colab": {
          "base_uri": "https://localhost:8080/"
        },
        "id": "sfVPGoItvutv",
        "outputId": "82dbdbe0-7ffb-48a5-8784-5204d35dd8be"
      },
      "execution_count": null,
      "outputs": [
        {
          "output_type": "stream",
          "name": "stdout",
          "text": [
            "Hai\n",
            "Hello\n",
            "I am fine\n",
            "Welcome to RACE\n",
            "THANK YOU\n",
            "BY\n"
          ]
        }
      ]
    },
    {
      "cell_type": "markdown",
      "source": [
        "# Day 2"
      ],
      "metadata": {
        "id": "Suuqew_mYHRg"
      }
    },
    {
      "cell_type": "code",
      "source": [
        "numbers=[3,5,45,97,32,22,10,19,39,43]\n",
        "for i in numbers:\n",
        "  if i%2==0:\n",
        "    print(i)\n"
      ],
      "metadata": {
        "colab": {
          "base_uri": "https://localhost:8080/"
        },
        "id": "Qmk9AdseYW9d",
        "outputId": "82bfa863-6edc-497d-889a-5d05cc156c08"
      },
      "execution_count": null,
      "outputs": [
        {
          "output_type": "stream",
          "name": "stdout",
          "text": [
            "32\n",
            "22\n",
            "10\n"
          ]
        }
      ]
    },
    {
      "cell_type": "code",
      "source": [
        "numbers=[3,5,45,97,32,22,10,19,39,43]\n",
        "b=[]\n",
        "for i in numbers:\n",
        "  if i%2==0:\n",
        "    b.append(i)\n",
        "print(b)   \n"
      ],
      "metadata": {
        "colab": {
          "base_uri": "https://localhost:8080/"
        },
        "id": "ZwzFGYmiilSc",
        "outputId": "8cfbfad1-1cfe-4386-916a-9c0bcd4ef6f8"
      },
      "execution_count": null,
      "outputs": [
        {
          "output_type": "stream",
          "name": "stdout",
          "text": [
            "[32, 22, 10]\n"
          ]
        }
      ]
    },
    {
      "cell_type": "code",
      "source": [
        "a=[3,5,45,97,32,22,10,19,39,43]\n",
        "num=[x for x in a if x%2==0]\n",
        "print(num)"
      ],
      "metadata": {
        "colab": {
          "base_uri": "https://localhost:8080/"
        },
        "id": "3bwHbHVNliw9",
        "outputId": "1a849d89-73dd-45b5-b974-55c5c7aedbdf"
      },
      "execution_count": null,
      "outputs": [
        {
          "output_type": "stream",
          "name": "stdout",
          "text": [
            "[32, 22, 10]\n"
          ]
        }
      ]
    },
    {
      "cell_type": "code",
      "source": [
        "a=[3,5,45,97,32,22,10,19,39,43]\n",
        "print([x for x in a if x%2==0])"
      ],
      "metadata": {
        "colab": {
          "base_uri": "https://localhost:8080/"
        },
        "id": "g-i_KZwtmBiR",
        "outputId": "95bb0607-2cd4-4b7a-b20e-963c53287282"
      },
      "execution_count": null,
      "outputs": [
        {
          "output_type": "stream",
          "name": "stdout",
          "text": [
            "[32, 22, 10]\n"
          ]
        }
      ]
    },
    {
      "cell_type": "markdown",
      "source": [
        "# Using Loop and List Comprehension"
      ],
      "metadata": {
        "id": "s4T3l5RTmnA_"
      }
    },
    {
      "cell_type": "code",
      "source": [
        "b=[]\n",
        "for i in range(3,100):\n",
        "  if '3' in str(i):\n",
        "    b.append(i)\n",
        "print(b)   "
      ],
      "metadata": {
        "colab": {
          "base_uri": "https://localhost:8080/"
        },
        "id": "5pVSKnEQm05r",
        "outputId": "85f64a62-3a3b-472e-f3e1-087ab9140b28"
      },
      "execution_count": null,
      "outputs": [
        {
          "output_type": "stream",
          "name": "stdout",
          "text": [
            "[3, 13, 23, 30, 31, 32, 33, 34, 35, 36, 37, 38, 39, 43, 53, 63, 73, 83, 93]\n"
          ]
        }
      ]
    },
    {
      "cell_type": "code",
      "source": [
        "print([i for i in range(3,100) if '3' in str(i)])#newList = [ expression(element) for element in oldList if condition ] "
      ],
      "metadata": {
        "colab": {
          "base_uri": "https://localhost:8080/"
        },
        "id": "_5mpoMmYp8TZ",
        "outputId": "45b1ae67-5b82-4caa-dcfc-1532a4025650"
      },
      "execution_count": null,
      "outputs": [
        {
          "output_type": "stream",
          "name": "stdout",
          "text": [
            "[3, 13, 23, 30, 31, 32, 33, 34, 35, 36, 37, 38, 39, 43, 53, 63, 73, 83, 93]\n"
          ]
        }
      ]
    },
    {
      "cell_type": "code",
      "source": [
        "for i in input():\n",
        "  if i not in ['a','e','i','o','u']:\n",
        "    print(i)"
      ],
      "metadata": {
        "colab": {
          "base_uri": "https://localhost:8080/"
        },
        "id": "mS2Q8xDMqX8O",
        "outputId": "00ca4db1-1946-4ce7-cb1f-0d7e4d4fb2c9"
      },
      "execution_count": null,
      "outputs": [
        {
          "output_type": "stream",
          "name": "stdout",
          "text": [
            "soujanya\n",
            "s\n",
            "j\n",
            "n\n",
            "y\n"
          ]
        }
      ]
    },
    {
      "cell_type": "code",
      "source": [
        "print([i for i in input() if i not in ['a','e','i','o','u']])"
      ],
      "metadata": {
        "colab": {
          "base_uri": "https://localhost:8080/"
        },
        "id": "WZ_CQ1IkuPBZ",
        "outputId": "d0dce76c-933b-4724-f4fd-7514cf811003"
      },
      "execution_count": null,
      "outputs": [
        {
          "output_type": "stream",
          "name": "stdout",
          "text": [
            "soujanya\n",
            "['s', 'j', 'n', 'y']\n"
          ]
        }
      ]
    },
    {
      "cell_type": "code",
      "source": [
        "print([i for i in str(input()) if i not in ('a','e','i','o','u',' ')])"
      ],
      "metadata": {
        "colab": {
          "base_uri": "https://localhost:8080/"
        },
        "id": "hRJLMCFkukLB",
        "outputId": "da7d2f39-e7dd-4d71-dff1-e0e89065a9dc"
      },
      "execution_count": null,
      "outputs": [
        {
          "output_type": "stream",
          "name": "stdout",
          "text": [
            "hai hello\n",
            "['h', 'h', 'l', 'l']\n"
          ]
        }
      ]
    },
    {
      "cell_type": "code",
      "source": [
        "f=open(\"/content/DEMOFILE.txt\",\"r\")\n",
        "s=f.read()\n",
        "count=0\n",
        "for i in s.split():\n",
        "  count+=1\n",
        "  \n",
        "print(count) "
      ],
      "metadata": {
        "colab": {
          "base_uri": "https://localhost:8080/"
        },
        "id": "wAGbrrZVyiey",
        "outputId": "54c79362-5ebb-4a38-d72b-310e7a963922"
      },
      "execution_count": null,
      "outputs": [
        {
          "output_type": "stream",
          "name": "stdout",
          "text": [
            "11\n"
          ]
        }
      ]
    },
    {
      "cell_type": "code",
      "source": [
        "f=open(\"/content/DEMOFILE.txt\",\"r\")\n",
        "count=0\n",
        "print([i for i in f.read().split() if count=count+1])"
      ],
      "metadata": {
        "colab": {
          "base_uri": "https://localhost:8080/",
          "height": 130
        },
        "id": "_AJ2x-Ta3BKy",
        "outputId": "487df832-98f2-4b9a-b894-e95546fdaa07"
      },
      "execution_count": null,
      "outputs": [
        {
          "output_type": "error",
          "ename": "SyntaxError",
          "evalue": "ignored",
          "traceback": [
            "\u001b[0;36m  File \u001b[0;32m\"<ipython-input-80-26ae0343d031>\"\u001b[0;36m, line \u001b[0;32m3\u001b[0m\n\u001b[0;31m    print([i for i in f.read().split() if count=count+1])\u001b[0m\n\u001b[0m                                               ^\u001b[0m\n\u001b[0;31mSyntaxError\u001b[0m\u001b[0;31m:\u001b[0m invalid syntax\n"
          ]
        }
      ]
    },
    {
      "cell_type": "code",
      "source": [
        "f=open(\"/content/DEMOFILE.txt\",\"r\")\n",
        "for i in f.readlines():\n",
        "   \n",
        "   print(i)"
      ],
      "metadata": {
        "colab": {
          "base_uri": "https://localhost:8080/"
        },
        "id": "OEVnUdIy4jkA",
        "outputId": "70f016ad-2c3e-4084-98f9-c883dd9b0c96"
      },
      "execution_count": null,
      "outputs": [
        {
          "output_type": "stream",
          "name": "stdout",
          "text": [
            "Hai\n",
            "\n",
            "Hello\n",
            "\n",
            "I am fine\n",
            "\n",
            "Welcome to RACE\n",
            "\n",
            "THANK YOU\n",
            "\n",
            "BY\n"
          ]
        }
      ]
    },
    {
      "cell_type": "code",
      "source": [
        "f=open(\"/content/DEMOFILE.txt\",\"r\")\n",
        "count=0\n",
        "for i in f.readlines():\n",
        "   count+=1\n",
        "   print(i)\n",
        "print(count)   "
      ],
      "metadata": {
        "colab": {
          "base_uri": "https://localhost:8080/"
        },
        "id": "kgqiZm066jl1",
        "outputId": "45cb0822-1a79-4370-fa85-5d09d5173030"
      },
      "execution_count": null,
      "outputs": [
        {
          "output_type": "stream",
          "name": "stdout",
          "text": [
            "Hai\n",
            "\n",
            "Hello\n",
            "\n",
            "I am fine\n",
            "\n",
            "Welcome to RACE\n",
            "\n",
            "THANK YOU\n",
            "\n",
            "BY\n",
            "6\n"
          ]
        }
      ]
    },
    {
      "cell_type": "code",
      "source": [
        "f=open(\"/content/DEMOFILE.txt\",\"r\")\n",
        "count=0\n",
        "for i in f.readlines():\n",
        "   count+=1\n",
        "\n",
        "   print(count,i)   \n",
        "     "
      ],
      "metadata": {
        "colab": {
          "base_uri": "https://localhost:8080/"
        },
        "id": "3Sxhy77B66HN",
        "outputId": "9642a1ed-d9d4-47cf-ae93-9bd2ba43b3a8"
      },
      "execution_count": null,
      "outputs": [
        {
          "output_type": "stream",
          "name": "stdout",
          "text": [
            "1 Hai\n",
            "\n",
            "2 Hello\n",
            "\n",
            "3 I am fine\n",
            "\n",
            "4 Welcome to RACE\n",
            "\n",
            "5 THANK YOU\n",
            "\n",
            "6 BY\n"
          ]
        }
      ]
    },
    {
      "cell_type": "code",
      "source": [
        "f=open(\"/content/Demofile.txt.txt\",\"r\")\n",
        "for i in f.readlines():\n",
        "  if \"to\" in f:\n",
        "    print(i)"
      ],
      "metadata": {
        "id": "jXa05cQE_mf0",
        "colab": {
          "base_uri": "https://localhost:8080/",
          "height": 217
        },
        "outputId": "53abc1ac-d284-44a1-aea8-18d725e077d9"
      },
      "execution_count": null,
      "outputs": [
        {
          "output_type": "error",
          "ename": "FileNotFoundError",
          "evalue": "ignored",
          "traceback": [
            "\u001b[0;31m---------------------------------------------------------------------------\u001b[0m",
            "\u001b[0;31mFileNotFoundError\u001b[0m                         Traceback (most recent call last)",
            "\u001b[0;32m<ipython-input-5-ff0733d80f62>\u001b[0m in \u001b[0;36m<module>\u001b[0;34m\u001b[0m\n\u001b[0;32m----> 1\u001b[0;31m \u001b[0mf\u001b[0m\u001b[0;34m=\u001b[0m\u001b[0mopen\u001b[0m\u001b[0;34m(\u001b[0m\u001b[0;34m\"/content/Demofile.txt.txt\"\u001b[0m\u001b[0;34m,\u001b[0m\u001b[0;34m\"r\"\u001b[0m\u001b[0;34m)\u001b[0m\u001b[0;34m\u001b[0m\u001b[0;34m\u001b[0m\u001b[0m\n\u001b[0m\u001b[1;32m      2\u001b[0m \u001b[0;32mfor\u001b[0m \u001b[0mi\u001b[0m \u001b[0;32min\u001b[0m \u001b[0mf\u001b[0m\u001b[0;34m.\u001b[0m\u001b[0mreadlines\u001b[0m\u001b[0;34m(\u001b[0m\u001b[0;34m)\u001b[0m\u001b[0;34m:\u001b[0m\u001b[0;34m\u001b[0m\u001b[0;34m\u001b[0m\u001b[0m\n\u001b[1;32m      3\u001b[0m   \u001b[0;32mif\u001b[0m \u001b[0;34m\"to\"\u001b[0m \u001b[0;32min\u001b[0m \u001b[0mf\u001b[0m\u001b[0;34m:\u001b[0m\u001b[0;34m\u001b[0m\u001b[0;34m\u001b[0m\u001b[0m\n\u001b[1;32m      4\u001b[0m     \u001b[0mprint\u001b[0m\u001b[0;34m(\u001b[0m\u001b[0mi\u001b[0m\u001b[0;34m)\u001b[0m\u001b[0;34m\u001b[0m\u001b[0;34m\u001b[0m\u001b[0m\n",
            "\u001b[0;31mFileNotFoundError\u001b[0m: [Errno 2] No such file or directory: '/content/Demofile.txt.txt'"
          ]
        }
      ]
    },
    {
      "cell_type": "code",
      "source": [
        "f=open(\"/content/DEMOFILE.txt\",\"r\")\n",
        "print([i for i in f.readlines() if 'to' in f])"
      ],
      "metadata": {
        "colab": {
          "base_uri": "https://localhost:8080/",
          "height": 183
        },
        "id": "KqEah9SRAQAE",
        "outputId": "e052e401-f103-42aa-8359-0de77eb3e316"
      },
      "execution_count": null,
      "outputs": [
        {
          "output_type": "error",
          "ename": "FileNotFoundError",
          "evalue": "ignored",
          "traceback": [
            "\u001b[0;31m---------------------------------------------------------------------------\u001b[0m",
            "\u001b[0;31mFileNotFoundError\u001b[0m                         Traceback (most recent call last)",
            "\u001b[0;32m<ipython-input-6-3ee058c811d9>\u001b[0m in \u001b[0;36m<module>\u001b[0;34m\u001b[0m\n\u001b[0;32m----> 1\u001b[0;31m \u001b[0mf\u001b[0m\u001b[0;34m=\u001b[0m\u001b[0mopen\u001b[0m\u001b[0;34m(\u001b[0m\u001b[0;34m\"/content/DEMOFILE.txt\"\u001b[0m\u001b[0;34m,\u001b[0m\u001b[0;34m\"r\"\u001b[0m\u001b[0;34m)\u001b[0m\u001b[0;34m\u001b[0m\u001b[0;34m\u001b[0m\u001b[0m\n\u001b[0m\u001b[1;32m      2\u001b[0m \u001b[0mprint\u001b[0m\u001b[0;34m(\u001b[0m\u001b[0;34m[\u001b[0m\u001b[0mi\u001b[0m \u001b[0;32mfor\u001b[0m \u001b[0mi\u001b[0m \u001b[0;32min\u001b[0m \u001b[0mf\u001b[0m\u001b[0;34m.\u001b[0m\u001b[0mreadlines\u001b[0m\u001b[0;34m(\u001b[0m\u001b[0;34m)\u001b[0m \u001b[0;32mif\u001b[0m \u001b[0;34m'to'\u001b[0m \u001b[0;32min\u001b[0m \u001b[0mf\u001b[0m\u001b[0;34m]\u001b[0m\u001b[0;34m)\u001b[0m\u001b[0;34m\u001b[0m\u001b[0;34m\u001b[0m\u001b[0m\n",
            "\u001b[0;31mFileNotFoundError\u001b[0m: [Errno 2] No such file or directory: '/content/DEMOFILE.txt'"
          ]
        }
      ]
    },
    {
      "cell_type": "code",
      "source": [
        "with open(\"/content/DEMOFILE.txt\", 'r+') as f:\n",
        "    f.write(\"new line \\n\")  \n",
        "    "
      ],
      "metadata": {
        "id": "VyEBPBD5TQ6Z"
      },
      "execution_count": null,
      "outputs": []
    },
    {
      "cell_type": "markdown",
      "source": [
        "#  Day-4 Exception handling"
      ],
      "metadata": {
        "id": "gwX5K5s2qyRF"
      }
    },
    {
      "cell_type": "code",
      "source": [
        "a=5\n",
        "b=0\n",
        "try:\n",
        "  print(a/b)\n",
        "except Exception as e:\n",
        "  print('Divide by zero error... Try again...')\n",
        "print(\"hello\")"
      ],
      "metadata": {
        "colab": {
          "base_uri": "https://localhost:8080/"
        },
        "id": "g5QljL9yq2pU",
        "outputId": "28615a5b-3f7a-42ef-8aad-b9b7e0c4959e"
      },
      "execution_count": null,
      "outputs": [
        {
          "output_type": "stream",
          "name": "stdout",
          "text": [
            "Divide by zero error... Try again...\n",
            "hello\n"
          ]
        }
      ]
    },
    {
      "cell_type": "code",
      "source": [
        "a=5\n",
        "b=5\n",
        "try:\n",
        "  print(a/b)\n",
        "except Exception as e:\n",
        "  print('Divide by zero error... Try again...')\n",
        "print(\"hello\")"
      ],
      "metadata": {
        "colab": {
          "base_uri": "https://localhost:8080/"
        },
        "id": "TZcSv4TxyA9v",
        "outputId": "c9eee9da-d18b-48bd-8b6d-5dbc2376ada9"
      },
      "execution_count": null,
      "outputs": [
        {
          "output_type": "stream",
          "name": "stdout",
          "text": [
            "1.0\n",
            "hello\n"
          ]
        }
      ]
    },
    {
      "cell_type": "code",
      "source": [
        "a=5\n",
        "b=5\n",
        "try:\n",
        "  print(\"Access open\")\n",
        "  print(a/b)\n",
        "  print(\"Access close\")\n",
        "except Exception as e:\n",
        "  print('Try again')\n",
        "print(\"hello\")"
      ],
      "metadata": {
        "colab": {
          "base_uri": "https://localhost:8080/"
        },
        "id": "KkO01-63yGPJ",
        "outputId": "c6ace241-8bfa-492c-99e7-55919ffb69ea"
      },
      "execution_count": null,
      "outputs": [
        {
          "output_type": "stream",
          "name": "stdout",
          "text": [
            "Access open\n",
            "1.0\n",
            "Access close\n",
            "hello\n"
          ]
        }
      ]
    },
    {
      "cell_type": "code",
      "source": [
        "a=5\n",
        "b=0\n",
        "try:\n",
        "  print(\"Access open\")\n",
        "  print(a/b)\n",
        "  print(\"Access close\")\n",
        "except Exception as e:\n",
        "  print('Try again')\n",
        "print(\"hello\")"
      ],
      "metadata": {
        "colab": {
          "base_uri": "https://localhost:8080/"
        },
        "id": "F-4JZGQB0NTG",
        "outputId": "8d103de7-fa56-40d5-b90b-1d7c76ac7e41"
      },
      "execution_count": null,
      "outputs": [
        {
          "output_type": "stream",
          "name": "stdout",
          "text": [
            "Access open\n",
            "Try again\n",
            "hello\n"
          ]
        }
      ]
    },
    {
      "cell_type": "markdown",
      "source": [
        "# Try Block"
      ],
      "metadata": {
        "id": "pn6oGW626Dov"
      }
    },
    {
      "cell_type": "code",
      "source": [
        "a=[1,2,3]\n",
        "try:\n",
        "  print(\"second element =%d\" %(a[1]))\n",
        "  print(\"sixth element =%d\" %(a[5]))\n",
        "except ZeroDivisionError:\n",
        "  print(\"Error....1\")\n",
        "  print(\"Array index out of bound\")  \n",
        "except IOError:\n",
        "  print(\"error....3\")\n",
        "  print(\"Array index out of bound\")\n",
        "else :\n",
        "  print(\"welcome\")  \n"
      ],
      "metadata": {
        "colab": {
          "base_uri": "https://localhost:8080/",
          "height": 252
        },
        "id": "pyxIm2zD63QQ",
        "outputId": "7329f610-334b-4b82-8704-1d5cdf0fbd2d"
      },
      "execution_count": null,
      "outputs": [
        {
          "output_type": "stream",
          "name": "stdout",
          "text": [
            "second element =2\n"
          ]
        },
        {
          "output_type": "error",
          "ename": "IndexError",
          "evalue": "ignored",
          "traceback": [
            "\u001b[0;31m---------------------------------------------------------------------------\u001b[0m",
            "\u001b[0;31mIndexError\u001b[0m                                Traceback (most recent call last)",
            "\u001b[0;32m<ipython-input-8-bc4bcc9594c4>\u001b[0m in \u001b[0;36m<module>\u001b[0;34m\u001b[0m\n\u001b[1;32m      2\u001b[0m \u001b[0;32mtry\u001b[0m\u001b[0;34m:\u001b[0m\u001b[0;34m\u001b[0m\u001b[0;34m\u001b[0m\u001b[0m\n\u001b[1;32m      3\u001b[0m   \u001b[0mprint\u001b[0m\u001b[0;34m(\u001b[0m\u001b[0;34m\"second element =%d\"\u001b[0m \u001b[0;34m%\u001b[0m\u001b[0;34m(\u001b[0m\u001b[0ma\u001b[0m\u001b[0;34m[\u001b[0m\u001b[0;36m1\u001b[0m\u001b[0;34m]\u001b[0m\u001b[0;34m)\u001b[0m\u001b[0;34m)\u001b[0m\u001b[0;34m\u001b[0m\u001b[0;34m\u001b[0m\u001b[0m\n\u001b[0;32m----> 4\u001b[0;31m   \u001b[0mprint\u001b[0m\u001b[0;34m(\u001b[0m\u001b[0;34m\"sixth element =%d\"\u001b[0m \u001b[0;34m%\u001b[0m\u001b[0;34m(\u001b[0m\u001b[0ma\u001b[0m\u001b[0;34m[\u001b[0m\u001b[0;36m5\u001b[0m\u001b[0;34m]\u001b[0m\u001b[0;34m)\u001b[0m\u001b[0;34m)\u001b[0m\u001b[0;34m\u001b[0m\u001b[0;34m\u001b[0m\u001b[0m\n\u001b[0m\u001b[1;32m      5\u001b[0m \u001b[0;32mexcept\u001b[0m \u001b[0mZeroDivisionError\u001b[0m\u001b[0;34m:\u001b[0m\u001b[0;34m\u001b[0m\u001b[0;34m\u001b[0m\u001b[0m\n\u001b[1;32m      6\u001b[0m   \u001b[0mprint\u001b[0m\u001b[0;34m(\u001b[0m\u001b[0;34m\"Error....1\"\u001b[0m\u001b[0;34m)\u001b[0m\u001b[0;34m\u001b[0m\u001b[0;34m\u001b[0m\u001b[0m\n",
            "\u001b[0;31mIndexError\u001b[0m: list index out of range"
          ]
        }
      ]
    },
    {
      "cell_type": "code",
      "source": [
        "try:\n",
        "\n",
        "    age=int(input(\"Enter the age?\\n\"))\n",
        "    if age<18:\n",
        "       raise ValueError;\n",
        "    else:\n",
        "         print(\"the age is valid\")\n",
        "except ValueError:\n",
        "  print(\"The age is not valid\")    "
      ],
      "metadata": {
        "colab": {
          "base_uri": "https://localhost:8080/"
        },
        "id": "DTQGI-66FpIq",
        "outputId": "761eb0d0-a31c-4613-d719-18e2319e9c36"
      },
      "execution_count": null,
      "outputs": [
        {
          "output_type": "stream",
          "name": "stdout",
          "text": [
            "Enter the age?\n",
            "14\n",
            "The age is not valid\n"
          ]
        }
      ]
    },
    {
      "cell_type": "code",
      "source": [
        "try:\n",
        "\n",
        "    age=int(input(\"Enter the age?\\n\"))\n",
        "    if age<18:\n",
        "       raise ValueError;\n",
        "else:\n",
        "     print(\"the age is valid\")\n",
        "except ValueError:\n",
        "  print(\"The age is not valid\")"
      ],
      "metadata": {
        "colab": {
          "base_uri": "https://localhost:8080/",
          "height": 130
        },
        "id": "w9Ih16TENRRq",
        "outputId": "1134056e-645d-4ae3-e2cb-81ebfba46b78"
      },
      "execution_count": null,
      "outputs": [
        {
          "output_type": "error",
          "ename": "SyntaxError",
          "evalue": "ignored",
          "traceback": [
            "\u001b[0;36m  File \u001b[0;32m\"<ipython-input-17-cb74e2815d4d>\"\u001b[0;36m, line \u001b[0;32m6\u001b[0m\n\u001b[0;31m    else:\u001b[0m\n\u001b[0m    ^\u001b[0m\n\u001b[0;31mSyntaxError\u001b[0m\u001b[0;31m:\u001b[0m invalid syntax\n"
          ]
        }
      ]
    },
    {
      "cell_type": "code",
      "source": [
        "try:\n",
        "\n",
        "    age=int(input(\"Enter the age?\\n\"))\n",
        "    if age<18:\n",
        "       raise ValueError;\n",
        "    \n",
        "except ValueError:\n",
        "  print(\"The age is not valid\")    \n",
        "else:\n",
        "         print(\"the age is valid\")  "
      ],
      "metadata": {
        "colab": {
          "base_uri": "https://localhost:8080/"
        },
        "id": "zNAC0oWrOqcc",
        "outputId": "42969136-086c-46f6-93a7-2d1ac472b901"
      },
      "execution_count": null,
      "outputs": [
        {
          "output_type": "stream",
          "name": "stdout",
          "text": [
            "Enter the age?\n",
            "12\n",
            "The age is not valid\n"
          ]
        }
      ]
    },
    {
      "cell_type": "code",
      "source": [
        "try:\n",
        "    age=int(input(\"Enter the age?\\n\"))\n",
        "    if age<18:\n",
        "       raise ValueError;\n",
        "finally:\n",
        "  print(\"Hello\")    \n",
        "except ValueError:\n",
        "  print(\"The age is not valid\")    \n",
        "else:\n",
        "         print(\"the age is valid\")  "
      ],
      "metadata": {
        "colab": {
          "base_uri": "https://localhost:8080/",
          "height": 130
        },
        "id": "5rQNIRN5O5aN",
        "outputId": "3eff3ce1-e60d-4eec-d0ae-5707c2c7429f"
      },
      "execution_count": null,
      "outputs": [
        {
          "output_type": "error",
          "ename": "SyntaxError",
          "evalue": "ignored",
          "traceback": [
            "\u001b[0;36m  File \u001b[0;32m\"<ipython-input-19-6a638ee220b8>\"\u001b[0;36m, line \u001b[0;32m7\u001b[0m\n\u001b[0;31m    except ValueError:\u001b[0m\n\u001b[0m    ^\u001b[0m\n\u001b[0;31mSyntaxError\u001b[0m\u001b[0;31m:\u001b[0m invalid syntax\n"
          ]
        }
      ]
    },
    {
      "cell_type": "code",
      "source": [
        "class MyError(Exception):\n",
        "    pass\n",
        "\n",
        "raise MyError(\"Example of user defined Exceptions in Python\")"
      ],
      "metadata": {
        "colab": {
          "base_uri": "https://localhost:8080/",
          "height": 200
        },
        "id": "v4UjmpaYPKaK",
        "outputId": "da4d3bea-2b67-4c44-a35c-85df0b803ed0"
      },
      "execution_count": null,
      "outputs": [
        {
          "output_type": "error",
          "ename": "MyError",
          "evalue": "ignored",
          "traceback": [
            "\u001b[0;31m---------------------------------------------------------------------------\u001b[0m",
            "\u001b[0;31mMyError\u001b[0m                                   Traceback (most recent call last)",
            "\u001b[0;32m<ipython-input-20-7d6f0262640e>\u001b[0m in \u001b[0;36m<module>\u001b[0;34m\u001b[0m\n\u001b[1;32m      2\u001b[0m     \u001b[0;32mpass\u001b[0m\u001b[0;34m\u001b[0m\u001b[0;34m\u001b[0m\u001b[0m\n\u001b[1;32m      3\u001b[0m \u001b[0;34m\u001b[0m\u001b[0m\n\u001b[0;32m----> 4\u001b[0;31m \u001b[0;32mraise\u001b[0m \u001b[0mMyError\u001b[0m\u001b[0;34m(\u001b[0m\u001b[0;34m\"Example of user defined Exceptions in Python\"\u001b[0m\u001b[0;34m)\u001b[0m\u001b[0;34m\u001b[0m\u001b[0;34m\u001b[0m\u001b[0m\n\u001b[0m",
            "\u001b[0;31mMyError\u001b[0m: Example of user defined Exceptions in Python"
          ]
        }
      ]
    },
    {
      "cell_type": "code",
      "source": [
        "# define Python user-defined exceptions\n",
        "class MyError(Exception):\n",
        "    \"Raised when the input value is less than 18\"\n",
        "    pass\n",
        "number = 18\n",
        "\n",
        "try:\n",
        "    input_num = int(input(\"Enter a number: \"))\n",
        "    if input_num < number:\n",
        "        raise MyError\n",
        "    else:\n",
        "        print(\"Eligible to Vote\")\n",
        "        \n",
        "except MyError:\n",
        "    print(\"Exception occurred: Invalid Age\")"
      ],
      "metadata": {
        "colab": {
          "base_uri": "https://localhost:8080/"
        },
        "id": "5igS3mmySCFo",
        "outputId": "c6574fa9-b755-4b88-a0d1-39dee344fe13"
      },
      "execution_count": null,
      "outputs": [
        {
          "output_type": "stream",
          "name": "stdout",
          "text": [
            "Enter a number: 4\n",
            "Exception occurred: Invalid Age\n"
          ]
        }
      ]
    },
    {
      "cell_type": "markdown",
      "source": [
        "# **Week-4 Day-1**\n",
        "\n",
        "# Modules and Packages"
      ],
      "metadata": {
        "id": "t_6X0-mtSorD"
      }
    },
    {
      "cell_type": "code",
      "source": [
        "from calc import add,sub\n",
        "print(add(4,2))\n",
        "print(sub(4,2))"
      ],
      "metadata": {
        "colab": {
          "base_uri": "https://localhost:8080/"
        },
        "id": "vYiwpimrYhaZ",
        "outputId": "caeeb591-d1ad-436d-dcb1-40f290e988af"
      },
      "execution_count": null,
      "outputs": [
        {
          "output_type": "stream",
          "name": "stdout",
          "text": [
            "6\n",
            "2\n"
          ]
        }
      ]
    },
    {
      "cell_type": "code",
      "source": [
        "import random \n",
        "for i in range(0,10):\n",
        "  print(i,end=\" \")\n"
      ],
      "metadata": {
        "colab": {
          "base_uri": "https://localhost:8080/"
        },
        "id": "S8tapTHKbeys",
        "outputId": "988dcf79-0561-4988-e03a-bdfb663877f2"
      },
      "execution_count": null,
      "outputs": [
        {
          "output_type": "stream",
          "name": "stdout",
          "text": [
            "0 1 2 3 4 5 6 7 8 9 "
          ]
        }
      ]
    },
    {
      "cell_type": "code",
      "source": [
        "import random\n",
        "a=[1,2,3,4,5,6,7,8,9,0]\n",
        "random.shuffle(a)\n",
        "print(a)"
      ],
      "metadata": {
        "colab": {
          "base_uri": "https://localhost:8080/"
        },
        "id": "GhslOC0_gimw",
        "outputId": "65ce05f1-aeae-4e1a-a5a0-6ca89c218666"
      },
      "execution_count": null,
      "outputs": [
        {
          "output_type": "stream",
          "name": "stdout",
          "text": [
            "[8, 6, 4, 2, 1, 9, 3, 7, 0, 5]\n"
          ]
        }
      ]
    },
    {
      "cell_type": "code",
      "source": [
        "import random\n",
        "a=[1,2,3,4,5,6,7,8,9,0]\n",
        "random.shuffle(a)\n",
        "print(a[:4])\n"
      ],
      "metadata": {
        "colab": {
          "base_uri": "https://localhost:8080/"
        },
        "id": "u_FXvpfzh-n6",
        "outputId": "4fba9573-dfdc-483e-ffa2-67f119eae3a2"
      },
      "execution_count": null,
      "outputs": [
        {
          "output_type": "stream",
          "name": "stdout",
          "text": [
            "[5, 4, 7, 6]\n"
          ]
        }
      ]
    },
    {
      "cell_type": "code",
      "source": [
        "import math\n",
        "number=-2.34\n",
        "print(\"the given number is:\", number)\n",
        "print(\"floor value is:\",math.floor(number))\n",
        "print(\"ceiling value is\",math.ceil(number))\n",
        "print(\"Absolute valu is:\",math.fabs(number))"
      ],
      "metadata": {
        "colab": {
          "base_uri": "https://localhost:8080/"
        },
        "id": "M96gJloZiVcI",
        "outputId": "aa5f99d7-c57a-409f-ef2b-b84b475eb6e4"
      },
      "execution_count": null,
      "outputs": [
        {
          "output_type": "stream",
          "name": "stdout",
          "text": [
            "the given number is: -2.34\n",
            "floor value is: -3\n",
            "ceiling value is -2\n",
            "Absolute valu is: 2.34\n"
          ]
        }
      ]
    },
    {
      "cell_type": "code",
      "source": [
        "import math\n",
        "number=1e-4\n",
        "print(\"the given number(x) is:\",number)\n",
        "print(\"e^x(using xpml() function) is:\",math.exp(number)-1)\n",
        "print(\"e^x(using expml() function) is:\", math.expm1(number))\n",
        "print(\"log(fabs(x),base) is:\", math.log(math.fabs(number),10))"
      ],
      "metadata": {
        "colab": {
          "base_uri": "https://localhost:8080/"
        },
        "id": "Ub0RmRzGqpVK",
        "outputId": "4e141370-bb60-49bc-d133-31ff31b8a3c3"
      },
      "execution_count": null,
      "outputs": [
        {
          "output_type": "stream",
          "name": "stdout",
          "text": [
            "the given number(x) is: 0.0001\n",
            "e^x(using xpml() function) is: 0.0001000050001667141\n",
            "e^x(using expml() function) is: 0.00010000500016667084\n",
            "log(fabs(x),base) is: -3.999999999999999\n"
          ]
        }
      ]
    },
    {
      "cell_type": "code",
      "source": [
        "import random\n",
        "r1=random.randint(0,10)\n",
        "print(r1)"
      ],
      "metadata": {
        "colab": {
          "base_uri": "https://localhost:8080/"
        },
        "id": "26EswxT9sfRy",
        "outputId": "2ec0fca0-58c3-4ca9-c3a3-d9e0519d8934"
      },
      "execution_count": null,
      "outputs": [
        {
          "output_type": "stream",
          "name": "stdout",
          "text": [
            "6\n"
          ]
        }
      ]
    },
    {
      "cell_type": "code",
      "source": [
        "file = open(\"/content/Demofile.txt\", \"r\")\n",
        "data = file.read()\n",
        "number_of_characters = len(data)\n",
        "print('Number of characters in text file :', number_of_characters)"
      ],
      "metadata": {
        "colab": {
          "base_uri": "https://localhost:8080/"
        },
        "id": "LWQ2K0VC3K7a",
        "outputId": "b8004fca-a623-4af1-d584-d0989e5df1f9"
      },
      "execution_count": null,
      "outputs": [
        {
          "output_type": "stream",
          "name": "stdout",
          "text": [
            "Number of characters in text file : 48\n"
          ]
        }
      ]
    },
    {
      "cell_type": "code",
      "source": [
        "file = open(\"/content/Demofile.txt\", \"r\")\n",
        "data = file.readlines()\n",
        "number_of_lines = len(data)\n",
        "print('Number of lines in text file :', number_of_lines)"
      ],
      "metadata": {
        "colab": {
          "base_uri": "https://localhost:8080/"
        },
        "id": "JOyLEDlG3fGq",
        "outputId": "5c176e96-e98f-4772-d1fd-7d9b24c2c132"
      },
      "execution_count": null,
      "outputs": [
        {
          "output_type": "stream",
          "name": "stdout",
          "text": [
            "Number of lines in text file : 6\n"
          ]
        }
      ]
    },
    {
      "cell_type": "code",
      "source": [
        "f=open(\"/content/Demofile.txt\",\"r\")\n",
        "s=f.read()\n",
        "count=0\n",
        "for i in s.split(\" \"):\n",
        "  count+=1\n",
        "  \n",
        "print(count) "
      ],
      "metadata": {
        "colab": {
          "base_uri": "https://localhost:8080/"
        },
        "id": "LslHlUNK5wi0",
        "outputId": "d32af96a-b985-4427-de47-e42385235e61"
      },
      "execution_count": null,
      "outputs": [
        {
          "output_type": "stream",
          "name": "stdout",
          "text": [
            "6\n"
          ]
        }
      ]
    },
    {
      "cell_type": "markdown",
      "source": [
        "# **Day-2**\n",
        "\n",
        "# OOPs"
      ],
      "metadata": {
        "id": "LpaIB7EMg4Xk"
      }
    },
    {
      "cell_type": "code",
      "source": [
        "class demo1:\n",
        "  def method1(self,a,b):\n",
        "    c=a+b\n",
        "    return c\n",
        "obj1=demo1()\n",
        "print(demo1.method1(obj1,10,20))    "
      ],
      "metadata": {
        "colab": {
          "base_uri": "https://localhost:8080/"
        },
        "id": "e98Km_aohHr1",
        "outputId": "ab533f8f-b493-44fb-b80c-20efbf2934fe"
      },
      "execution_count": null,
      "outputs": [
        {
          "output_type": "stream",
          "name": "stdout",
          "text": [
            "30\n"
          ]
        }
      ]
    },
    {
      "cell_type": "code",
      "source": [
        "class demo1:\n",
        "  def method1(self,a,b):\n",
        "    c=a+b\n",
        "    return c\n",
        "class demo2:\n",
        "  def method2(self,a,b):\n",
        "    c=a-b\n",
        "    return c    \n",
        "hai=demo1()\n",
        "hai=demo2()\n",
        "print(demo1.method1(hai,10,20))\n",
        "print(demo2.method2(hai,10,20))    "
      ],
      "metadata": {
        "colab": {
          "base_uri": "https://localhost:8080/"
        },
        "id": "Qb-XuL90nAPT",
        "outputId": "d43f208d-0601-4cfc-b94d-2ceff242c21a"
      },
      "execution_count": null,
      "outputs": [
        {
          "output_type": "stream",
          "name": "stdout",
          "text": [
            "30\n",
            "-10\n"
          ]
        }
      ]
    },
    {
      "cell_type": "code",
      "source": [
        "class Myclass:\n",
        "  name=\"Soujanya\"\n",
        "obj=Myclass()\n",
        "print(obj.name)  "
      ],
      "metadata": {
        "colab": {
          "base_uri": "https://localhost:8080/"
        },
        "id": "JFqzXd8Ap9fd",
        "outputId": "7595453a-bd4b-4977-9d4b-5ef114aadb20"
      },
      "execution_count": null,
      "outputs": [
        {
          "output_type": "stream",
          "name": "stdout",
          "text": [
            "Soujanya\n"
          ]
        }
      ]
    },
    {
      "cell_type": "code",
      "source": [
        "class Python:\n",
        "  def fun(self):\n",
        "    print(\"Welcome to opps concept\")\n",
        "obj=Python()\n",
        "obj.fun()   \n"
      ],
      "metadata": {
        "colab": {
          "base_uri": "https://localhost:8080/"
        },
        "id": "L6m1sCKwtYHS",
        "outputId": "97f49652-5bf7-41d1-aeb8-6d7466882ffc"
      },
      "execution_count": null,
      "outputs": [
        {
          "output_type": "stream",
          "name": "stdout",
          "text": [
            "Welcome to opps concept\n"
          ]
        }
      ]
    },
    {
      "cell_type": "code",
      "source": [
        "class Test:\n",
        "  x=10 #static variable\n",
        "  def __init__(self):\n",
        "    print(\"hello\")\n",
        "t=Test()\n",
        "print(Test.x) #Test is the class object    "
      ],
      "metadata": {
        "colab": {
          "base_uri": "https://localhost:8080/"
        },
        "id": "7hrHO265uGfJ",
        "outputId": "6cf8b6f8-5df0-4d87-baf2-48e54e6de50e"
      },
      "execution_count": null,
      "outputs": [
        {
          "output_type": "stream",
          "name": "stdout",
          "text": [
            "hello\n",
            "10\n"
          ]
        }
      ]
    },
    {
      "cell_type": "code",
      "source": [
        "#Predict the output\n",
        "class Car:\n",
        "    'Common_car'\n",
        "    car=0\n",
        "    def _init_(self,name,id1,car):\n",
        "        self.name=name\n",
        "        self.id=id\n",
        "        Car.car+=1\n",
        "        \n",
        "    def printCardata(self):\n",
        "        print(\"Name: \",self.name, \"Id: \", self.id )\n",
        "        \n",
        "c=Car(\"AUDI\",2000000)\n",
        "c1=Car(\"BENZ\",3000000)\n",
        "c2=Car(\"BMW\",1000000)\n",
        "print(\"Total Cars: \",Car.car)\n",
        "c.printCardata()\n",
        "c1.printCardata()\n",
        "c2.printCardata()"
      ],
      "metadata": {
        "colab": {
          "base_uri": "https://localhost:8080/",
          "height": 235
        },
        "id": "mqZ7Y8vC3-jN",
        "outputId": "ae5016bd-4c82-4975-c888-2adb237c5378"
      },
      "execution_count": null,
      "outputs": [
        {
          "output_type": "error",
          "ename": "TypeError",
          "evalue": "ignored",
          "traceback": [
            "\u001b[0;31m---------------------------------------------------------------------------\u001b[0m",
            "\u001b[0;31mTypeError\u001b[0m                                 Traceback (most recent call last)",
            "\u001b[0;32m<ipython-input-12-7029fb96df6f>\u001b[0m in \u001b[0;36m<module>\u001b[0;34m\u001b[0m\n\u001b[1;32m     11\u001b[0m         \u001b[0mprint\u001b[0m\u001b[0;34m(\u001b[0m\u001b[0;34m\"Name: \"\u001b[0m\u001b[0;34m,\u001b[0m\u001b[0mself\u001b[0m\u001b[0;34m.\u001b[0m\u001b[0mname\u001b[0m\u001b[0;34m,\u001b[0m \u001b[0;34m\"Id: \"\u001b[0m\u001b[0;34m,\u001b[0m \u001b[0mself\u001b[0m\u001b[0;34m.\u001b[0m\u001b[0mid\u001b[0m \u001b[0;34m)\u001b[0m\u001b[0;34m\u001b[0m\u001b[0;34m\u001b[0m\u001b[0m\n\u001b[1;32m     12\u001b[0m \u001b[0;34m\u001b[0m\u001b[0m\n\u001b[0;32m---> 13\u001b[0;31m \u001b[0mc\u001b[0m\u001b[0;34m=\u001b[0m\u001b[0mCar\u001b[0m\u001b[0;34m(\u001b[0m\u001b[0;34m\"AUDI\"\u001b[0m\u001b[0;34m,\u001b[0m\u001b[0;36m2000000\u001b[0m\u001b[0;34m)\u001b[0m\u001b[0;34m\u001b[0m\u001b[0;34m\u001b[0m\u001b[0m\n\u001b[0m\u001b[1;32m     14\u001b[0m \u001b[0mc1\u001b[0m\u001b[0;34m=\u001b[0m\u001b[0mCar\u001b[0m\u001b[0;34m(\u001b[0m\u001b[0;34m\"BENZ\"\u001b[0m\u001b[0;34m,\u001b[0m\u001b[0;36m3000000\u001b[0m\u001b[0;34m)\u001b[0m\u001b[0;34m\u001b[0m\u001b[0;34m\u001b[0m\u001b[0m\n\u001b[1;32m     15\u001b[0m \u001b[0mc2\u001b[0m\u001b[0;34m=\u001b[0m\u001b[0mCar\u001b[0m\u001b[0;34m(\u001b[0m\u001b[0;34m\"BMW\"\u001b[0m\u001b[0;34m,\u001b[0m\u001b[0;36m1000000\u001b[0m\u001b[0;34m)\u001b[0m\u001b[0;34m\u001b[0m\u001b[0;34m\u001b[0m\u001b[0m\n",
            "\u001b[0;31mTypeError\u001b[0m: Car() takes no arguments"
          ]
        }
      ]
    },
    {
      "cell_type": "code",
      "source": [
        "#Predict the output\n",
        "class Car:\n",
        "    'Common_car'\n",
        "    car=0\n",
        "    def __init__(self,name,id):\n",
        "        self.name=name\n",
        "        self.id=id\n",
        "        Car.car+=1\n",
        "        \n",
        "    def printCardata(self):\n",
        "        print(\"Name: \",self.name,\"Id: \",self.id)\n",
        "        \n",
        "c=Car(\"AUDI\",2000000)\n",
        "c1=Car(\"BENZ\",3000000)\n",
        "c2=Car(\"BMW\",1000000)\n",
        "print(\"Total Cars: \",Car.car)\n",
        "c.printCardata()\n",
        "c1.printCardata()\n",
        "c2.printCardata()"
      ],
      "metadata": {
        "colab": {
          "base_uri": "https://localhost:8080/"
        },
        "id": "kZlFRzwf82cw",
        "outputId": "bb57567c-4927-4058-e6bd-0449a2a1dc1e"
      },
      "execution_count": null,
      "outputs": [
        {
          "output_type": "stream",
          "name": "stdout",
          "text": [
            "Total Cars:  3\n",
            "Name:  AUDI Id:  2000000\n",
            "Name:  BENZ Id:  3000000\n",
            "Name:  BMW Id:  1000000\n"
          ]
        }
      ]
    },
    {
      "cell_type": "markdown",
      "source": [
        "# Types of Variable"
      ],
      "metadata": {
        "id": "Rbfz5EqR9V78"
      }
    },
    {
      "cell_type": "code",
      "source": [
        "class Car(object):\n",
        "  wheels=4\n",
        "  def __init__(self,make):\n",
        "    self.make=make\n",
        "newCar=Car(\"Honda\")\n",
        "print(\"My new car is a {}\".format(newCar.make))\n",
        "print(\"My car, like all car, has {} wheels\".format(Car.wheels))    \n"
      ],
      "metadata": {
        "colab": {
          "base_uri": "https://localhost:8080/"
        },
        "id": "56JXYgZD9qCV",
        "outputId": "8b6189d3-8e10-4e5c-e871-f0750cb3bbdf"
      },
      "execution_count": null,
      "outputs": [
        {
          "output_type": "stream",
          "name": "stdout",
          "text": [
            "My new car is a Honda\n",
            "My car, like all car, has 4 wheels\n"
          ]
        }
      ]
    },
    {
      "cell_type": "code",
      "source": [
        "class test:\n",
        "  def __init__(self):\n",
        "    self.variable='car' #instance variable\n",
        "    self.change(self.variable)\n",
        "  def change(self,var):\n",
        "    self.var='bike'\n",
        "obj=test()\n",
        "print(obj.variable)\n",
        "print(obj.var)      "
      ],
      "metadata": {
        "colab": {
          "base_uri": "https://localhost:8080/"
        },
        "id": "vuiR6aTzA_rN",
        "outputId": "a5c324e0-7f8a-4324-d5ed-4717b6f5eb13"
      },
      "execution_count": null,
      "outputs": [
        {
          "output_type": "stream",
          "name": "stdout",
          "text": [
            "car\n",
            "bike\n"
          ]
        }
      ]
    },
    {
      "cell_type": "markdown",
      "source": [
        "# **Day-3**\n",
        "# Operator overloading"
      ],
      "metadata": {
        "id": "HoTcCT_RmYsP"
      }
    },
    {
      "cell_type": "code",
      "source": [
        "a=10\n",
        "b=20\n",
        "print(a.__add__(b))"
      ],
      "metadata": {
        "colab": {
          "base_uri": "https://localhost:8080/"
        },
        "id": "1PferOMAmb-V",
        "outputId": "bc5d859c-1be8-4662-d57f-8349ce01e16d"
      },
      "execution_count": null,
      "outputs": [
        {
          "output_type": "stream",
          "name": "stdout",
          "text": [
            "30\n"
          ]
        }
      ]
    },
    {
      "cell_type": "code",
      "source": [
        "class A:\n",
        "  def __init__(self,a):\n",
        "    self.a=a\n",
        "  # adding two objects\n",
        "  def __add__(self,o):\n",
        "    return self.a+o.a\n",
        "\n",
        "ob1=A(1)\n",
        "ob2=A(2)\n",
        "ob3=A(\"RACE\")\n",
        "ob4=A(\"World\")\n",
        "\n",
        "print(ob1+ob2)\n",
        "print(ob3+ob4)"
      ],
      "metadata": {
        "colab": {
          "base_uri": "https://localhost:8080/"
        },
        "id": "w9O2FVJ2v_zi",
        "outputId": "4205626e-7392-4c73-de4d-fbedbf4f2458"
      },
      "execution_count": null,
      "outputs": [
        {
          "output_type": "stream",
          "name": "stdout",
          "text": [
            "3\n",
            "RACEWorld\n"
          ]
        }
      ]
    },
    {
      "cell_type": "code",
      "source": [
        "ch=int(input())\n",
        "a=int(input())\n",
        "b=int(input())\n",
        "if (ch==1):\n",
        "  print(a.__add__(b))\n",
        "elif (ch==2):\n",
        "  print(a.__sub__(b))\n",
        "elif(ch==3):\n",
        "  print(a.__mul__(b))\n",
        "elif(ch==4):\n",
        "  print(a.__div__(b))\n",
        "elif(ch==5):\n",
        "  print(a.__mod__(b))\n",
        "else:\n",
        "  print(\"Enter valid choice\")          "
      ],
      "metadata": {
        "id": "icb-cXpkxagB",
        "colab": {
          "base_uri": "https://localhost:8080/"
        },
        "outputId": "72bc7a28-822c-4fe2-a1a6-41fd42acdcd0"
      },
      "execution_count": null,
      "outputs": [
        {
          "output_type": "stream",
          "name": "stdout",
          "text": [
            "1\n",
            "10\n",
            "100\n",
            "110\n"
          ]
        }
      ]
    },
    {
      "cell_type": "code",
      "source": [
        "a,b,c=[int(x)for x in input().split()]\n",
        "dic={1:(a.__add__(b)),2:(a.__sub__(b)),3:(a.__mul__(b))}\n",
        "print(dic[c])"
      ],
      "metadata": {
        "colab": {
          "base_uri": "https://localhost:8080/"
        },
        "id": "4S_E0Zonrh34",
        "outputId": "d1f6382b-90e0-4417-eb18-c739a140e140"
      },
      "execution_count": 9,
      "outputs": [
        {
          "output_type": "stream",
          "name": "stdout",
          "text": [
            "5 6 2\n",
            "-1\n"
          ]
        }
      ]
    },
    {
      "cell_type": "markdown",
      "source": [
        "# Day-4 \n",
        "# Inheritance"
      ],
      "metadata": {
        "id": "AWsd_63wuvKC"
      }
    },
    {
      "cell_type": "code",
      "source": [
        "# with inheritance, single inheritance\n",
        "\n",
        "class Car:\n",
        "  def speed(self):\n",
        "    print(\"100km\")\n",
        "class Audi(Car):\n",
        "  def engine(self):\n",
        "    print(\"Engin is powerful\")    \n",
        "c=Audi()\n",
        "c.engine()\n",
        "c.speed()    "
      ],
      "metadata": {
        "colab": {
          "base_uri": "https://localhost:8080/"
        },
        "id": "V1KYgdoa3QUU",
        "outputId": "e0a21b66-4dc4-4f18-a863-5d2685b8825b"
      },
      "execution_count": 10,
      "outputs": [
        {
          "output_type": "stream",
          "name": "stdout",
          "text": [
            "Engin is powerful\n",
            "100km\n"
          ]
        }
      ]
    },
    {
      "cell_type": "code",
      "source": [
        "# without inheritance\n",
        "\n",
        "class Car:\n",
        "  def speed(self):\n",
        "    print(\"100km\")\n",
        "class Audi:\n",
        "  def engine(self):\n",
        "    print(\"Engin is powerful\")    \n",
        "c=Audi()\n",
        "b=Car()\n",
        "c.engine()\n",
        "b.speed()"
      ],
      "metadata": {
        "colab": {
          "base_uri": "https://localhost:8080/"
        },
        "id": "_mK0txii7ASh",
        "outputId": "9de9260d-7258-47c4-c447-f828edd82ba4"
      },
      "execution_count": 12,
      "outputs": [
        {
          "output_type": "stream",
          "name": "stdout",
          "text": [
            "Engin is powerful\n",
            "100km\n"
          ]
        }
      ]
    },
    {
      "cell_type": "code",
      "source": [
        "# multi level inheritance\n",
        "\n",
        "class Car:\n",
        "  def speed(self):\n",
        "    print(\"100kn/hr\")\n",
        "\n",
        "class Brand(Car) :\n",
        "  def audi(self):\n",
        "    print(\"its a high quality car\")\n",
        "\n",
        "class Color(Brand):\n",
        "  def black(self):\n",
        "    print(\"everyone loves black car\")\n",
        "c=Color()\n",
        "c.audi()        \n",
        "c.speed()\n",
        "c.black()"
      ],
      "metadata": {
        "colab": {
          "base_uri": "https://localhost:8080/"
        },
        "id": "avCZCWfWAO2D",
        "outputId": "b6567675-f45c-4ec4-d482-b9946952b364"
      },
      "execution_count": 14,
      "outputs": [
        {
          "output_type": "stream",
          "name": "stdout",
          "text": [
            "its a high quality car\n",
            "100kn/hr\n",
            "everyone loves black car\n"
          ]
        }
      ]
    },
    {
      "cell_type": "code",
      "source": [
        "# multiple inheritance\n",
        "\n",
        "class Animal1(object):\n",
        "  def __init__(self):\n",
        "    self.str1=\"Dog\"\n",
        "    print(\"Animal1\")\n",
        "class Animal2(object):\n",
        "  def __init__(self):\n",
        "    self.str2=\"Cat\"\n",
        "    print(\"Animal2\")\n",
        "class Ani(Animal1,Animal2):\n",
        "  def __init__(self):\n",
        "    Animal1.__init__(self)\n",
        "    Animal2.__init__(self)\n",
        "    print(\"Ani\")\n",
        "  def printstr(self):\n",
        "    print(self.str1,self.str2)\n",
        "a=Ani()\n",
        "a.printstr()              "
      ],
      "metadata": {
        "colab": {
          "base_uri": "https://localhost:8080/"
        },
        "id": "YAZoNe8nC2R1",
        "outputId": "23644b62-d5d2-4633-a167-70f477bf7743"
      },
      "execution_count": 15,
      "outputs": [
        {
          "output_type": "stream",
          "name": "stdout",
          "text": [
            "Animal1\n",
            "Animal2\n",
            "Ani\n",
            "Dog Cat\n"
          ]
        }
      ]
    },
    {
      "cell_type": "code",
      "source": [],
      "metadata": {
        "id": "AxnZZ4mGLk-g"
      },
      "execution_count": null,
      "outputs": []
    }
  ]
}