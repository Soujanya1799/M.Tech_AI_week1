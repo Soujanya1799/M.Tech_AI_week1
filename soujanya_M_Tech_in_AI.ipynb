{
  "nbformat": 4,
  "nbformat_minor": 0,
  "metadata": {
    "colab": {
      "provenance": []
    },
    "kernelspec": {
      "name": "python3",
      "display_name": "Python 3"
    },
    "language_info": {
      "name": "python"
    }
  },
  "cells": [
    {
      "cell_type": "markdown",
      "source": [
        "# Day 1"
      ],
      "metadata": {
        "id": "kgV_PHZgaS2i"
      }
    },
    {
      "cell_type": "code",
      "source": [
        "#99flag=4\n",
        "#print(99flag)# error because of the number starting\n",
        "#text=3#global=5\n",
        "#print(global) # error because of the keyword used\n",
        "#print(text)\n",
        "an$wer=7\n",
        "print(an$wer) # error because of the $"
      ],
      "metadata": {
        "id": "Cqex3sJuu0W7"
      },
      "execution_count": null,
      "outputs": []
    },
    {
      "cell_type": "code",
      "source": [
        "from IPython.utils.text import num_ini_spaces\n",
        "a=2 #variable value is given\n",
        "b=2.2\n",
        "c=23+8j\n",
        "print(a) #printed the value of a\n",
        "print(b) #print the value of b\n",
        "print(a+ int(b)) # print the addition of a and b\n",
        "x=int(float(a)-b) #print and value given to the new variable x\n",
        "print(x) #print x\n",
        "print (c)\n",
        "print (type(a)) #type to find the datatype of a\n",
        "print(type(c))#type to find the datatype of c \n",
        "print(type(b))#type to find the datatype of b \n",
        "print(\"soujanya\")#printing the text vignesh\n",
        "soujanya=a+int(b)\n",
        "print(soujanya)#printing the text vignesh\n",
        "d=input() #taking input from the user\n",
        "e=int(input())\n",
        "print(d)\n",
        "print(e) \n",
        "print(int(d)+e)\n"
      ],
      "metadata": {
        "colab": {
          "base_uri": "https://localhost:8080/"
        },
        "id": "mJ_ZpZ4WbYB8",
        "outputId": "f74b7c45-92b8-4b2a-85cf-d7c4147e4776"
      },
      "execution_count": null,
      "outputs": [
        {
          "output_type": "stream",
          "name": "stdout",
          "text": [
            "2\n",
            "2.2\n",
            "4\n",
            "0\n",
            "(23+8j)\n",
            "<class 'int'>\n",
            "<class 'complex'>\n",
            "<class 'float'>\n",
            "soujanya\n",
            "4\n",
            "7\n",
            "8\n",
            "7\n",
            "8\n",
            "15\n"
          ]
        }
      ]
    },
    {
      "cell_type": "code",
      "source": [
        "t=float(input(\"value of t \"))#taking value for variable\n",
        "print(t)\n",
        "print(\"%.3f\"%t)#this command will make value after desimal only 3 numbers which also be as n "
      ],
      "metadata": {
        "colab": {
          "base_uri": "https://localhost:8080/"
        },
        "id": "nw0mRK5-u5wJ",
        "outputId": "71b0f344-9078-4abe-f15b-82a1805c7d8e"
      },
      "execution_count": null,
      "outputs": [
        {
          "output_type": "stream",
          "name": "stdout",
          "text": [
            "value of t 9\n",
            "9.0\n",
            "9.000\n"
          ]
        }
      ]
    },
    {
      "cell_type": "code",
      "source": [
        "x=int(input(\"value of x \"))#taking value for variable\n",
        "y=int(input(\"value of y \"))#taking value for variable\n",
        "z=int(input(\"value of z \"))#taking value for variable\n",
        "print((x+y+z)/3)"
      ],
      "metadata": {
        "colab": {
          "base_uri": "https://localhost:8080/"
        },
        "id": "EwNSuYR-vI8p",
        "outputId": "c96ff77b-9972-4d31-b169-fc832ece9159"
      },
      "execution_count": null,
      "outputs": [
        {
          "output_type": "stream",
          "name": "stdout",
          "text": [
            "value of x 8\n",
            "value of y 9\n",
            "value of z 7\n",
            "8.0\n"
          ]
        }
      ]
    },
    {
      "cell_type": "code",
      "source": [
        "a=int(input(\"value of a \"))#taking value for variable\n",
        "b=int(input(\"value of b \"))#taking value for variable\n",
        "print((a+b)/100)\n",
        "if a > b: #conduction for a>b first statment is printed else second is printed\n",
        " print((b/a)*100)\n",
        "else:\n",
        " print((a/b)*100)"
      ],
      "metadata": {
        "colab": {
          "base_uri": "https://localhost:8080/"
        },
        "id": "gBrM0FkDvbPB",
        "outputId": "b86314f8-df00-4311-d91c-b4791740217e"
      },
      "execution_count": null,
      "outputs": [
        {
          "output_type": "stream",
          "name": "stdout",
          "text": [
            "value of a 10\n",
            "value of b 20\n",
            "0.3\n",
            "50.0\n"
          ]
        }
      ]
    },
    {
      "cell_type": "code",
      "source": [
        "mystring= hello #giving values for variable\n",
        "myfloat= 2.5 #giving values for variable\n",
        "myint=10 #giving values for variable\n",
        "print(mystring)#printing the variable\n",
        "print(myfloat)#printing the variable\n",
        "print(myint)#printing the variable\n",
        "\n",
        "\n",
        "a=input(\"value of a\")#taking value for variable\n",
        "b=input(\"value of b\")#taking value for variable\n",
        "if a>b:#comparing value of a,b and check weather a is greater than b\n",
        " print(b%a)\n",
        "else:\n",
        " print(a%b) "
      ],
      "metadata": {
        "colab": {
          "base_uri": "https://localhost:8080/",
          "height": 235
        },
        "id": "g5FsaDW3vrbZ",
        "outputId": "e9ec7c6b-20b0-4577-ea51-2ac6d15202e2"
      },
      "execution_count": null,
      "outputs": [
        {
          "output_type": "error",
          "ename": "NameError",
          "evalue": "ignored",
          "traceback": [
            "\u001b[0;31m---------------------------------------------------------------------------\u001b[0m",
            "\u001b[0;31mNameError\u001b[0m                                 Traceback (most recent call last)",
            "\u001b[0;32m<ipython-input-6-efee590be4a3>\u001b[0m in \u001b[0;36m<module>\u001b[0;34m\u001b[0m\n\u001b[0;32m----> 1\u001b[0;31m \u001b[0mmystring\u001b[0m\u001b[0;34m=\u001b[0m \u001b[0mhello\u001b[0m \u001b[0;31m#giving values for variable\u001b[0m\u001b[0;34m\u001b[0m\u001b[0;34m\u001b[0m\u001b[0m\n\u001b[0m\u001b[1;32m      2\u001b[0m \u001b[0mmyfloat\u001b[0m\u001b[0;34m=\u001b[0m \u001b[0;36m2.5\u001b[0m \u001b[0;31m#giving values for variable\u001b[0m\u001b[0;34m\u001b[0m\u001b[0;34m\u001b[0m\u001b[0m\n\u001b[1;32m      3\u001b[0m \u001b[0mmyint\u001b[0m\u001b[0;34m=\u001b[0m\u001b[0;36m10\u001b[0m \u001b[0;31m#giving values for variable\u001b[0m\u001b[0;34m\u001b[0m\u001b[0;34m\u001b[0m\u001b[0m\n\u001b[1;32m      4\u001b[0m \u001b[0mprint\u001b[0m\u001b[0;34m(\u001b[0m\u001b[0mmystring\u001b[0m\u001b[0;34m)\u001b[0m\u001b[0;31m#printing the variable\u001b[0m\u001b[0;34m\u001b[0m\u001b[0;34m\u001b[0m\u001b[0m\n\u001b[1;32m      5\u001b[0m \u001b[0mprint\u001b[0m\u001b[0;34m(\u001b[0m\u001b[0mmyfloat\u001b[0m\u001b[0;34m)\u001b[0m\u001b[0;31m#printing the variable\u001b[0m\u001b[0;34m\u001b[0m\u001b[0;34m\u001b[0m\u001b[0m\n",
            "\u001b[0;31mNameError\u001b[0m: name 'hello' is not defined"
          ]
        }
      ]
    },
    {
      "cell_type": "code",
      "source": [
        "a=int(input()) # taking input from the user\n",
        "b=int(input()) # taking input from the user\n",
        "print(a+b) # performing operation and printing\n",
        "print(a-b) # performing operation and printing\n",
        "print(a*b) # performing operation and printing\n",
        "print(a/b) # performing operation and printing\n",
        "print(a%b) # performing operation and printing\n",
        "  "
      ],
      "metadata": {
        "colab": {
          "base_uri": "https://localhost:8080/"
        },
        "id": "RVSOm369v4g8",
        "outputId": "007212ea-79dc-48cb-8776-d390d9a8a02c"
      },
      "execution_count": null,
      "outputs": [
        {
          "output_type": "stream",
          "name": "stdout",
          "text": [
            "3\n",
            "5\n",
            "8\n",
            "-2\n",
            "15\n",
            "0.6\n",
            "3\n"
          ]
        }
      ]
    },
    {
      "cell_type": "code",
      "source": [
        "a=10 # initializing value\n",
        "b=4 # initializing value\n",
        "print(a&b)# performing operation and printing\n",
        "print(a|b)# performing operation and printing\n",
        "print(a^b)# performing operation and printing\n",
        "print(a<<2)# performing operation and printing\n",
        "print(a>>2)# performing operation and printing\n"
      ],
      "metadata": {
        "id": "ktzxnOgMwlHy",
        "colab": {
          "base_uri": "https://localhost:8080/"
        },
        "outputId": "3fab8d16-e0c0-4e97-929e-4e13526a7017"
      },
      "execution_count": null,
      "outputs": [
        {
          "output_type": "stream",
          "name": "stdout",
          "text": [
            "0\n",
            "14\n",
            "14\n",
            "40\n",
            "2\n"
          ]
        }
      ]
    },
    {
      "cell_type": "markdown",
      "source": [
        "# Day 2"
      ],
      "metadata": {
        "id": "FEXhkMbAcDx9"
      }
    },
    {
      "cell_type": "code",
      "source": [
        "n=10\n",
        "for i in range(1,n+1):\n",
        "  if(i==6):\n",
        "    break\n",
        "  print(i,end=\"\")  "
      ],
      "metadata": {
        "colab": {
          "base_uri": "https://localhost:8080/"
        },
        "id": "DZHWxzVpcMrM",
        "outputId": "a65f47ec-6980-47ca-c31a-c0a578149ab4"
      },
      "execution_count": null,
      "outputs": [
        {
          "output_type": "stream",
          "name": "stdout",
          "text": [
            "12345"
          ]
        }
      ]
    },
    {
      "cell_type": "code",
      "source": [
        "n=int(input(\"enter the value of n= \"))\n",
        "for i in range(1,n+1):\n",
        "  if i==6:\n",
        "    break\n",
        "  print(i*5)"
      ],
      "metadata": {
        "colab": {
          "base_uri": "https://localhost:8080/"
        },
        "id": "uR5G8l0uce8Y",
        "outputId": "735639cf-9e5f-4dc8-8585-ffbd37d27d20"
      },
      "execution_count": null,
      "outputs": [
        {
          "output_type": "stream",
          "name": "stdout",
          "text": [
            "enter the value of n= 4\n",
            "5\n",
            "10\n",
            "15\n",
            "20\n"
          ]
        }
      ]
    },
    {
      "cell_type": "code",
      "source": [
        "n=int(input(\"enter the value of n= \"))\n",
        "for i in range(1,n+1):\n",
        "  print(i*5)"
      ],
      "metadata": {
        "colab": {
          "base_uri": "https://localhost:8080/"
        },
        "id": "TbKfjYyLctV8",
        "outputId": "2e1e1b41-4f49-437b-afd4-460dbaea9243"
      },
      "execution_count": null,
      "outputs": [
        {
          "output_type": "stream",
          "name": "stdout",
          "text": [
            "enter the value of n= 20\n",
            "5\n",
            "10\n",
            "15\n",
            "20\n",
            "25\n",
            "30\n",
            "35\n",
            "40\n",
            "45\n",
            "50\n",
            "55\n",
            "60\n",
            "65\n",
            "70\n",
            "75\n",
            "80\n",
            "85\n",
            "90\n",
            "95\n",
            "100\n"
          ]
        }
      ]
    },
    {
      "cell_type": "code",
      "source": [
        "n=int(input(\"enter the value of n= \"))\n",
        "for i in range(1,n+1):\n",
        "  i*=5\n",
        "  if i%2==0:\n",
        "    print(i)"
      ],
      "metadata": {
        "colab": {
          "base_uri": "https://localhost:8080/"
        },
        "id": "V_DW_fftcxSJ",
        "outputId": "02b62531-0ec9-4302-9fa4-9d70ab9d939f"
      },
      "execution_count": null,
      "outputs": [
        {
          "output_type": "stream",
          "name": "stdout",
          "text": [
            "enter the value of n= 10\n",
            "10\n",
            "20\n",
            "30\n",
            "40\n",
            "50\n"
          ]
        }
      ]
    },
    {
      "cell_type": "code",
      "source": [
        "n=int(input(\"enter the value of n= \"))\n",
        "for i in range(1,n+1):\n",
        "  if i%2==0:\n",
        "    print(i)"
      ],
      "metadata": {
        "colab": {
          "base_uri": "https://localhost:8080/"
        },
        "id": "HuB7W8zidCGx",
        "outputId": "04e72cd6-c64a-4845-f994-9760c3010119"
      },
      "execution_count": null,
      "outputs": [
        {
          "output_type": "stream",
          "name": "stdout",
          "text": [
            "enter the value of n= 10\n",
            "2\n",
            "4\n",
            "6\n",
            "8\n",
            "10\n"
          ]
        }
      ]
    },
    {
      "cell_type": "code",
      "source": [
        "n=int(input(\"enter the value of n= \"))\n",
        "for i in range(1,n+1):\n",
        "  if i%2!=0:\n",
        "    print(i)"
      ],
      "metadata": {
        "colab": {
          "base_uri": "https://localhost:8080/"
        },
        "id": "6KBwuIgadGGM",
        "outputId": "7f8f8840-5f48-463a-deaa-021a03fc6e80"
      },
      "execution_count": null,
      "outputs": [
        {
          "output_type": "stream",
          "name": "stdout",
          "text": [
            "enter the value of n= 10\n",
            "1\n",
            "3\n",
            "5\n",
            "7\n",
            "9\n"
          ]
        }
      ]
    },
    {
      "cell_type": "code",
      "source": [
        "a=98\n",
        "print(a>>2)"
      ],
      "metadata": {
        "colab": {
          "base_uri": "https://localhost:8080/"
        },
        "id": "vnGzdyY1dP-J",
        "outputId": "9c98d86d-5434-4035-b8ba-01d30f1e29c2"
      },
      "execution_count": null,
      "outputs": [
        {
          "output_type": "stream",
          "name": "stdout",
          "text": [
            "24\n"
          ]
        }
      ]
    },
    {
      "cell_type": "code",
      "source": [
        "n=int(input(\"enter the value of n= \"))\n",
        "for i in range(1,n+1):\n",
        "  i*=5\n",
        "  if i%2!=0:\n",
        "    print(i)"
      ],
      "metadata": {
        "colab": {
          "base_uri": "https://localhost:8080/"
        },
        "id": "cJY-MgQTdZH0",
        "outputId": "2376e14a-491e-4edb-af56-3394350de512"
      },
      "execution_count": null,
      "outputs": [
        {
          "output_type": "stream",
          "name": "stdout",
          "text": [
            "enter the value of n= 10\n",
            "5\n",
            "15\n",
            "25\n",
            "35\n",
            "45\n"
          ]
        }
      ]
    },
    {
      "cell_type": "code",
      "source": [
        "x=int(input(\"value of x \"))#taking value for variable\n",
        "y=int(input(\"value of y \"))#taking value for variable\n",
        "z=int(input(\"value of z \"))#taking value for variable\n",
        "print((x+y+z)//3)"
      ],
      "metadata": {
        "colab": {
          "base_uri": "https://localhost:8080/"
        },
        "id": "Z99qBmd8do7q",
        "outputId": "f90ffaa3-f526-4083-e8e1-6e06398c776f"
      },
      "execution_count": null,
      "outputs": [
        {
          "output_type": "stream",
          "name": "stdout",
          "text": [
            "value of x 7\n",
            "value of y 8\n",
            "value of z 9\n",
            "8\n"
          ]
        }
      ]
    },
    {
      "cell_type": "code",
      "source": [
        "x=int(input(\"value of x \"))#taking value for variable\n",
        "y=int(input(\"value of y \"))#taking value for variable\n",
        "print(x+y,'\\n',x-y)"
      ],
      "metadata": {
        "colab": {
          "base_uri": "https://localhost:8080/"
        },
        "id": "MCwnxor_duBr",
        "outputId": "656d9c5b-033b-49d5-87e1-d56a1a81f3c6"
      },
      "execution_count": null,
      "outputs": [
        {
          "output_type": "stream",
          "name": "stdout",
          "text": [
            "value of x 5\n",
            "value of y 6\n",
            "11 \n",
            " -1\n"
          ]
        }
      ]
    },
    {
      "cell_type": "code",
      "source": [
        "a=int(input(\"value of a \"))#taking value for variable\n",
        "b=int(input(\"value of b \"))#taking value for variable\n",
        "x=a\n",
        "y=b\n",
        "b=a\n",
        "a=y\n",
        "print(a)\n",
        "print(b)2\n"
      ],
      "metadata": {
        "colab": {
          "base_uri": "https://localhost:8080/"
        },
        "id": "awHKjxZpd3_1",
        "outputId": "3dcac3d3-5307-4c8c-c1ce-8537673c4fff"
      },
      "execution_count": null,
      "outputs": [
        {
          "output_type": "stream",
          "name": "stdout",
          "text": [
            "value of a 7\n",
            "value of b 4\n",
            "4\n",
            "7\n"
          ]
        }
      ]
    },
    {
      "cell_type": "markdown",
      "source": [
        "# **Day3** **String**"
      ],
      "metadata": {
        "id": "qU4JnxIIeR-M"
      }
    },
    {
      "cell_type": "code",
      "source": [
        "a=\"RACE\"\n",
        "print(a[1])"
      ],
      "metadata": {
        "id": "_tuliK-geWZ-",
        "colab": {
          "base_uri": "https://localhost:8080/"
        },
        "outputId": "fbeb4c0c-23c5-4946-8f90-ea9c4491a297"
      },
      "execution_count": null,
      "outputs": [
        {
          "output_type": "stream",
          "name": "stdout",
          "text": [
            "A\n"
          ]
        }
      ]
    },
    {
      "cell_type": "code",
      "source": [
        "a=\"helloworld\"\n",
        "for i in range(len(a)):\n",
        "  if i%2==0:\n",
        "    print(a[i])"
      ],
      "metadata": {
        "colab": {
          "base_uri": "https://localhost:8080/"
        },
        "id": "LMvNEr6MfHju",
        "outputId": "7ad79b52-2b3e-4c13-d064-e7c3b325628d"
      },
      "execution_count": null,
      "outputs": [
        {
          "output_type": "stream",
          "name": "stdout",
          "text": [
            "h\n",
            "l\n",
            "o\n",
            "o\n",
            "l\n"
          ]
        }
      ]
    },
    {
      "cell_type": "code",
      "source": [
        "a=input()\n",
        "odd=\"\"\n",
        "even=\"\"\n",
        "for i in range(0,len(a)):\n",
        "  if(i%2==0):\n",
        "    even=even+a[i]\n",
        "  else:\n",
        "    odd=odd+a[i]\n",
        "print(\"Even index char.:\",even)\n",
        "print(\"Odd index char.\",odd)"
      ],
      "metadata": {
        "colab": {
          "base_uri": "https://localhost:8080/"
        },
        "id": "wZkt_PbZfM1H",
        "outputId": "98130750-95cf-4c1e-9f53-be05fd5f0f73"
      },
      "execution_count": null,
      "outputs": [
        {
          "output_type": "stream",
          "name": "stdout",
          "text": [
            "RACE\n",
            "Even index char.: RC\n",
            "Odd index char. AE\n"
          ]
        }
      ]
    },
    {
      "cell_type": "code",
      "source": [
        "a=\"Soujanya\"\n",
        "print(a[-1])"
      ],
      "metadata": {
        "colab": {
          "base_uri": "https://localhost:8080/"
        },
        "id": "PsKr8owWfXsc",
        "outputId": "6fcaf72c-c09b-486b-cbff-ec72f452e91e"
      },
      "execution_count": null,
      "outputs": [
        {
          "output_type": "stream",
          "name": "stdout",
          "text": [
            "a\n"
          ]
        }
      ]
    },
    {
      "cell_type": "code",
      "source": [
        "a=\"hello world\"\n",
        "print(a[:2])"
      ],
      "metadata": {
        "colab": {
          "base_uri": "https://localhost:8080/"
        },
        "id": "FAj6V6MzfgXR",
        "outputId": "2a45245d-dbb1-42ab-f5b8-d10c747db24f"
      },
      "execution_count": null,
      "outputs": [
        {
          "output_type": "stream",
          "name": "stdout",
          "text": [
            "he\n"
          ]
        }
      ]
    },
    {
      "cell_type": "code",
      "source": [
        "a=input()\n",
        "print(a[0:len(a):2])\n",
        "print(a[1:len(a):2])"
      ],
      "metadata": {
        "colab": {
          "base_uri": "https://localhost:8080/"
        },
        "id": "iQY29HOsfvIc",
        "outputId": "1770eede-b791-4f94-cb46-91a48f1c9cf5"
      },
      "execution_count": null,
      "outputs": [
        {
          "output_type": "stream",
          "name": "stdout",
          "text": [
            "soujanya\n",
            "suay\n",
            "ojna\n"
          ]
        }
      ]
    },
    {
      "cell_type": "code",
      "source": [
        "a=\"soujanya\"\n",
        "print(a[2:])"
      ],
      "metadata": {
        "colab": {
          "base_uri": "https://localhost:8080/"
        },
        "id": "is1Fqxoff3PX",
        "outputId": "a7dd2f48-5cdf-4bca-bcd0-df7555d85b08"
      },
      "execution_count": null,
      "outputs": [
        {
          "output_type": "stream",
          "name": "stdout",
          "text": [
            "ujanya\n"
          ]
        }
      ]
    },
    {
      "cell_type": "code",
      "source": [
        "a=\"hello world\"\n",
        "print(a[:-2])"
      ],
      "metadata": {
        "colab": {
          "base_uri": "https://localhost:8080/"
        },
        "id": "BznfmBkMf8oQ",
        "outputId": "e16e380b-6028-4c07-c66b-4bbef122079e"
      },
      "execution_count": null,
      "outputs": [
        {
          "output_type": "stream",
          "name": "stdout",
          "text": [
            "hello wor\n"
          ]
        }
      ]
    },
    {
      "cell_type": "code",
      "source": [
        "a=\"hello world\"\n",
        "print(a[-2:])"
      ],
      "metadata": {
        "colab": {
          "base_uri": "https://localhost:8080/"
        },
        "id": "jDHh8kv8gC3A",
        "outputId": "5ce9cc3a-1005-40b2-ac3a-29c81d6a2264"
      },
      "execution_count": null,
      "outputs": [
        {
          "output_type": "stream",
          "name": "stdout",
          "text": [
            "ld\n"
          ]
        }
      ]
    },
    {
      "cell_type": "code",
      "source": [
        "a=\"hello world\"\n",
        "print(a[1:-3])"
      ],
      "metadata": {
        "colab": {
          "base_uri": "https://localhost:8080/"
        },
        "id": "N3ONk2E2gSel",
        "outputId": "3750be63-a0f9-42e2-947a-5b75b0f5cd26"
      },
      "execution_count": null,
      "outputs": [
        {
          "output_type": "stream",
          "name": "stdout",
          "text": [
            "ello wo\n"
          ]
        }
      ]
    },
    {
      "cell_type": "code",
      "source": [
        "a=\"hello world\"\n",
        "for i in range(len(a)-1,-1,-1):\n",
        "    print(a[i],end=\"\")"
      ],
      "metadata": {
        "colab": {
          "base_uri": "https://localhost:8080/"
        },
        "id": "Cqqf37tTgUpH",
        "outputId": "8984370c-4746-4650-970c-942bed4ae8be"
      },
      "execution_count": null,
      "outputs": [
        {
          "output_type": "stream",
          "name": "stdout",
          "text": [
            "dlrow olleh"
          ]
        }
      ]
    },
    {
      "cell_type": "code",
      "source": [
        "str1=input()\n",
        "print(str1[::-1])"
      ],
      "metadata": {
        "colab": {
          "base_uri": "https://localhost:8080/"
        },
        "id": "4BYLZyidgdHO",
        "outputId": "9d3ce9cf-08c6-4e0f-edbe-78b31f181733"
      },
      "execution_count": null,
      "outputs": [
        {
          "output_type": "stream",
          "name": "stdout",
          "text": [
            "soujanya\n",
            "aynajuos\n"
          ]
        }
      ]
    },
    {
      "cell_type": "code",
      "source": [
        "str=\"hello world\"\n",
        "print(str[::-2])\n",
        "print(str[::2])\n",
        "print(str[2::])\n",
        "print(str[-2::])\n",
        "print(str[::-4])\n",
        "print(str[0:11:2])"
      ],
      "metadata": {
        "colab": {
          "base_uri": "https://localhost:8080/"
        },
        "id": "rddhILgcgmyy",
        "outputId": "4c9c0aee-81aa-4342-e889-f9d49d6da04a"
      },
      "execution_count": null,
      "outputs": [
        {
          "output_type": "stream",
          "name": "stdout",
          "text": [
            "drwolh\n",
            "hlowrd\n",
            "llo world\n",
            "ld\n",
            "dwl\n",
            "hlowrd\n"
          ]
        }
      ]
    }
  ]
}