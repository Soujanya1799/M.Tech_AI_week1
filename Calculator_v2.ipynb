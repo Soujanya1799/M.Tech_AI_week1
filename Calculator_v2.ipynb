{
  "nbformat": 4,
  "nbformat_minor": 0,
  "metadata": {
    "colab": {
      "provenance": [],
      "authorship_tag": "ABX9TyNXmAPoCprWzQdCPiwKM6+x",
      "include_colab_link": true
    },
    "kernelspec": {
      "name": "python3",
      "display_name": "Python 3"
    },
    "language_info": {
      "name": "python"
    }
  },
  "cells": [
    {
      "cell_type": "markdown",
      "metadata": {
        "id": "view-in-github",
        "colab_type": "text"
      },
      "source": [
        "<a href=\"https://colab.research.google.com/github/Soujanya1799/M.Tech_AI_week1/blob/main/Calculator_v2.ipynb\" target=\"_parent\"><img src=\"https://colab.research.google.com/assets/colab-badge.svg\" alt=\"Open In Colab\"/></a>"
      ]
    },
    {
      "cell_type": "code",
      "source": [
        "import math\n",
        "\n",
        "\n",
        "def calculator():\n",
        "    \n",
        "    print(\"Please enter the operation you want to perform:\")\n",
        "    print(\"1. Addition (+)\")\n",
        "    print(\"2. Subtraction (-)\")\n",
        "    print(\"3. Multiplication (*)\")\n",
        "    print(\"4. Division (/)\")\n",
        "    print(\"5. Modulus (%)\")\n",
        "    print(\"6. Power (x^y)\")\n",
        "    print(\"7. Logarithm (base 10)\")\n",
        "    print(\"8. Sine (sin)\")\n",
        "    print(\"9. Cosine (cos)\")\n",
        "    print(\"10. Tangent (tan)\")\n",
        "    \n",
        "    choice = input(\"Enter your choice (1-10): \")\n",
        "    \n",
        "    if choice in ['1', '2', '3', '4']:\n",
        "        num1 = float(input(\"Enter first number: \"))\n",
        "        num2 = float(input(\"Enter second number: \"))\n",
        "        if choice == '1':\n",
        "            print(num1, \"+\", num2, \"=\", num1 + num2)\n",
        "        elif choice == '2':\n",
        "            print(num1, \"-\", num2, \"=\", num1 - num2)\n",
        "        elif choice == '3':\n",
        "            print(num1, \"*\", num2, \"=\", num1 * num2)\n",
        "        elif choice == '4':\n",
        "            if num2 == 0:\n",
        "                print(\"Error: division by zero\")\n",
        "            else:\n",
        "                print(num1, \"/\", num2, \"=\", num1 / num2)\n",
        "    elif choice == '5':\n",
        "        num1 = float(input(\"Enter first number: \"))\n",
        "        num2 = float(input(\"Enter second number: \"))\n",
        "        print(num1, \"%\", num2, \"=\", num1 % num2)\n",
        "    elif choice == '6':\n",
        "        num1 = float(input(\"Enter base: \"))\n",
        "        num2 = float(input(\"Enter exponent: \"))\n",
        "        print(num1, \"^\", num2, \"=\", num1 ** num2)\n",
        "    elif choice == '7':\n",
        "        num = float(input(\"Enter number: \"))\n",
        "        print(\"log(\", num, \")=\", math.log10(num))\n",
        "    elif choice == '8':\n",
        "        num = float(input(\"Enter angle in degrees: \"))\n",
        "        print(\"sin(\", num, \")=\", math.sin(math.radians(num)))\n",
        "    elif choice == '9':\n",
        "        num = float(input(\"Enter angle in degrees: \"))\n",
        "        print(\"cos(\", num, \")=\", math.cos(math.radians(num)))\n",
        "    elif choice == '10':\n",
        "        num = float(input(\"Enter angle in degrees: \"))\n",
        "        print(\"tan(\", num, \")=\", math.tan(math.radians(num)))\n",
        "    else:\n",
        "        print(\"Invalid input\")\n",
        "    \n",
        "    again()\n",
        "\n",
        "def again():\n",
        "    calc_again = input(\"Do you want to calculate again? Type Y for yes or N for no. \")\n",
        "    if calc_again.upper() == 'Y':\n",
        "        calculator()\n",
        "    elif calc_again.upper() == 'N':\n",
        "        print(\"Goodbye!\")\n",
        "    else:\n",
        "        again()\n",
        "\n",
        "calculator()\n"
      ],
      "metadata": {
        "colab": {
          "base_uri": "https://localhost:8080/"
        },
        "id": "k7-DkID3kNAS",
        "outputId": "3a46d0cb-8739-4fee-f350-5283b3742c5f"
      },
      "execution_count": null,
      "outputs": [
        {
          "output_type": "stream",
          "name": "stdout",
          "text": [
            "Welcome to the calculator!\n",
            "Please enter the operation you want to perform:\n",
            "1. Addition (+)\n",
            "2. Subtraction (-)\n",
            "3. Multiplication (*)\n",
            "4. Division (/)\n",
            "5. Modulus (%)\n",
            "6. Power (x^y)\n",
            "7. Logarithm (base 10)\n",
            "8. Sine (sin)\n",
            "9. Cosine (cos)\n",
            "10. Tangent (tan)\n",
            "Enter your choice (1-10): 8\n",
            "Enter angle in degrees: 30\n",
            "sin( 30.0 )= 0.49999999999999994\n",
            "Do you want to calculate again? Type Y for yes or N for no. y\n",
            "Welcome to the calculator!\n",
            "Please enter the operation you want to perform:\n",
            "1. Addition (+)\n",
            "2. Subtraction (-)\n",
            "3. Multiplication (*)\n",
            "4. Division (/)\n",
            "5. Modulus (%)\n",
            "6. Power (x^y)\n",
            "7. Logarithm (base 10)\n",
            "8. Sine (sin)\n",
            "9. Cosine (cos)\n",
            "10. Tangent (tan)\n",
            "Enter your choice (1-10): 4\n",
            "Enter first number: 2\n",
            "Enter second number: 0\n",
            "Error: division by zero\n",
            "Do you want to calculate again? Type Y for yes or N for no. n\n",
            "Goodbye!\n"
          ]
        }
      ]
    }
  ]
}