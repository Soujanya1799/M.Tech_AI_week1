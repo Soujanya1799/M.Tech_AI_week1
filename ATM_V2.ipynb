{
  "nbformat": 4,
  "nbformat_minor": 0,
  "metadata": {
    "colab": {
      "provenance": [],
      "authorship_tag": "ABX9TyMBjVEzRnyqcCIawNAc92zJ",
      "include_colab_link": true
    },
    "kernelspec": {
      "name": "python3",
      "display_name": "Python 3"
    },
    "language_info": {
      "name": "python"
    }
  },
  "cells": [
    {
      "cell_type": "markdown",
      "metadata": {
        "id": "view-in-github",
        "colab_type": "text"
      },
      "source": [
        "<a href=\"https://colab.research.google.com/github/Soujanya1799/M.Tech_AI_week1/blob/main/ATM_V2.ipynb\" target=\"_parent\"><img src=\"https://colab.research.google.com/assets/colab-badge.svg\" alt=\"Open In Colab\"/></a>"
      ]
    },
    {
      "cell_type": "markdown",
      "source": [
        "# **Pseudocode**\n",
        "\n",
        "In this program, a user dictionary is defined to store the user data, which includes the card number, pin, and balance. Then 4 functions are defined:\n",
        "\n",
        "1) verify_pin(): This function verifies the user's pin. It takes the user's input pin as an argument and compares it with the pin stored in the current_user dictionary.\n",
        "\n",
        "2) withdraw(): This function withdraws cash from the user's account. It checks whether the user has sufficient balance and updates the balance if the withdrawal is successful. It allows the user to make three attempts before returning False. It ask user to enter only multiples of 100.\n",
        "\n",
        "3) deposit(): This function deposits cash to the user's account. It checks whether the user is depositing multiples of 100. After depositing it updates the user's balance\n",
        "\n",
        "\n",
        "4) main(): This function start the ATM machine by asking the user to enter their account number and pin. If the account number is valid, call the verify_pin() function to check the pin. If the pin is correct, ask the user to choose the options, withdrawal or deposit or exit. If withdraw is choosen, call the withdraw() function to process the transaction. If deposit is choosen, call the deposit() function to deposit the amount and upadat the balance.If exit is choosen, thank you message will be displayed\n",
        "\n",
        "Finally, it ask user to continue or exit the transaction. If yes it calls the main() function and start the process. If no thank you message will be displayed."
      ],
      "metadata": {
        "id": "SjSg0cdcnghy"
      }
    },
    {
      "cell_type": "code",
      "source": [
        "# sample user data (card number: (PIN, balance))\n",
        "user_data = {\n",
        "    \"1234567890123456\": (\"1234\", 10000),\n",
        "    \"2345678901234567\": (\"5678\", 5000),\n",
        "    \"3456789012345678\": (\"9012\", 20000)\n",
        "}\n",
        "\n",
        "# function to verify PIN\n",
        "def verify_pin(card_num, pin):\n",
        "    if card_num in user_data and user_data[card_num][0] == pin:\n",
        "        return True\n",
        "    else:\n",
        "        return False\n",
        "\n",
        "# function to withdraw money\n",
        "def withdraw(card_num, amount):\n",
        "    if amount % 100 != 0:\n",
        "        print(\"Amount must be a multiple of 100.\")\n",
        "        return False\n",
        "    elif card_num in user_data and user_data[card_num][1] >= amount:\n",
        "        user_data[card_num] = (user_data[card_num][0], user_data[card_num][1] - amount)\n",
        "        print(f\"Withdrawal successful. New balance: {user_data[card_num][1]}\")\n",
        "        return True\n",
        "    else:\n",
        "        print(\"Insufficient balance.\")\n",
        "        return False\n",
        "\n",
        "# function to deposit money\n",
        "def deposit(card_num, amount):\n",
        "    if amount % 100 != 0:\n",
        "        print(\"Amount must be a multiple of 100.\")\n",
        "        return False\n",
        "    elif card_num in user_data:\n",
        "        user_data[card_num] = (user_data[card_num][0], user_data[card_num][1] + amount)\n",
        "        print(f\"Deposit successful. New balance: {user_data[card_num][1]}\")\n",
        "        return True\n",
        "    else:\n",
        "        print(\"Invalid card number.\")\n",
        "        return False\n",
        "\n",
        "def receipt(amount):\n",
        "    print(\"Transaction receipt\")\n",
        "    print(\"-------------------\")\n",
        "    print(\"Account number:{} \".format(current_account))\n",
        "    print(\"Withdrawal amount: Rs.{} \".format(amount))\n",
        "    print(\"Current balance: Rs.{} \".format(current_user['balance']))\n",
        "    print(\"Thank you for using our ATM.\")\n",
        "\n",
        "# main function\n",
        "def main():\n",
        "    card_num = input(\"Enter card number: \")\n",
        "    pin = input(\"Enter PIN: \")\n",
        "    if verify_pin(card_num, pin):\n",
        "        while True:\n",
        "            print(\"\\n1. Withdraw\")\n",
        "            print(\"2. Deposit\")\n",
        "            print(\"3. Exit\")\n",
        "            choice = input(\"Enter choice: \")\n",
        "            if choice == \"1\":\n",
        "                amount = int(input(\"Enter amount to withdraw: \"))\n",
        "                withdraw(card_num, amount)\n",
        "            elif choice == \"2\":\n",
        "                amount = int(input(\"Enter amount to deposit: \"))\n",
        "                deposit(card_num, amount)\n",
        "            elif choice == \"3\":\n",
        "                print(\"Thank you for using our ATM!\")\n",
        "                break\n",
        "            else:\n",
        "                print(\"Invalid choice.\")\n",
        "    else:\n",
        "        print(\"Invalid card number or PIN.\")\n",
        "\n",
        "# run the program\n",
        "while True:\n",
        "    main()\n",
        "    choice = input(\"Would you like to perform another transaction? (Y/N) \")\n",
        "    if choice.lower() == \"n\":\n",
        "        break\n"
      ],
      "metadata": {
        "colab": {
          "base_uri": "https://localhost:8080/"
        },
        "id": "G4Hn9ItdngyL",
        "outputId": "d36f9183-c088-490a-9407-c5b1e3cf0d4a"
      },
      "execution_count": null,
      "outputs": [
        {
          "name": "stdout",
          "output_type": "stream",
          "text": [
            "Enter card number: 1234567890123456\n",
            "Enter PIN: 1234\n",
            "\n",
            "1. Withdraw\n",
            "2. Deposit\n",
            "3. Exit\n",
            "Enter choice: 1\n",
            "Enter amount to withdraw: 2000\n",
            "Withdrawal successful. New balance: 8000\n",
            "\n",
            "1. Withdraw\n",
            "2. Deposit\n",
            "3. Exit\n",
            "Enter choice: 3\n",
            "Thank you for using our ATM!\n",
            "Would you like to perform another transaction? (Y/N) n\n"
          ]
        }
      ]
    }
  ]
}